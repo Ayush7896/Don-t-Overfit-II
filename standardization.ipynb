{
 "cells": [
  {
   "cell_type": "markdown",
   "metadata": {},
   "source": [
    "Importing necessary libraries"
   ]
  },
  {
   "cell_type": "code",
   "execution_count": 1,
   "metadata": {},
   "outputs": [],
   "source": [
    "import pandas as pd\n",
    "import numpy as np\n",
    "import seaborn as sns\n",
    "from matplotlib import pyplot as plt\n",
    "from sklearn.decomposition import PCA\n",
    "from sklearn.preprocessing import StandardScaler,MinMaxScaler,Normalizer,RobustScaler\n",
    "from sklearn.model_selection import train_test_split,GridSearchCV,RandomizedSearchCV,StratifiedKFold\n",
    "from sklearn.linear_model import LogisticRegression\n",
    "from sklearn.metrics import roc_curve,auc,roc_auc_score\n",
    "from sklearn.naive_bayes import MultinomialNB,GaussianNB\n",
    "from sklearn.tree import DecisionTreeClassifier\n",
    "from tqdm import tqdm\n",
    "%matplotlib inline\n",
    "from imblearn.over_sampling import SMOTE\n",
    "import scipy.stats as stat\n",
    "import pylab\n",
    "import warnings\n",
    "warnings.filterwarnings('ignore')\n",
    "from sklearn.ensemble import RandomForestClassifier\n",
    "from xgboost import XGBClassifier\n",
    "from sklearn.feature_selection import RFECV\n",
    "from prettytable import PrettyTable\n",
    "from sklearn.preprocessing import FunctionTransformer,PowerTransformer"
   ]
  },
  {
   "cell_type": "code",
   "execution_count": 2,
   "metadata": {},
   "outputs": [],
   "source": [
    "data=pd.read_csv(\"train.csv\")"
   ]
  },
  {
   "cell_type": "code",
   "execution_count": 3,
   "metadata": {},
   "outputs": [
    {
     "data": {
      "text/html": [
       "<div>\n",
       "<style scoped>\n",
       "    .dataframe tbody tr th:only-of-type {\n",
       "        vertical-align: middle;\n",
       "    }\n",
       "\n",
       "    .dataframe tbody tr th {\n",
       "        vertical-align: top;\n",
       "    }\n",
       "\n",
       "    .dataframe thead th {\n",
       "        text-align: right;\n",
       "    }\n",
       "</style>\n",
       "<table border=\"1\" class=\"dataframe\">\n",
       "  <thead>\n",
       "    <tr style=\"text-align: right;\">\n",
       "      <th></th>\n",
       "      <th>0</th>\n",
       "      <th>1</th>\n",
       "      <th>2</th>\n",
       "      <th>3</th>\n",
       "      <th>4</th>\n",
       "      <th>5</th>\n",
       "      <th>6</th>\n",
       "      <th>7</th>\n",
       "      <th>8</th>\n",
       "      <th>9</th>\n",
       "      <th>...</th>\n",
       "      <th>290</th>\n",
       "      <th>291</th>\n",
       "      <th>292</th>\n",
       "      <th>293</th>\n",
       "      <th>294</th>\n",
       "      <th>295</th>\n",
       "      <th>296</th>\n",
       "      <th>297</th>\n",
       "      <th>298</th>\n",
       "      <th>299</th>\n",
       "    </tr>\n",
       "  </thead>\n",
       "  <tbody>\n",
       "    <tr>\n",
       "      <th>0</th>\n",
       "      <td>-0.098</td>\n",
       "      <td>2.165</td>\n",
       "      <td>0.681</td>\n",
       "      <td>-0.614</td>\n",
       "      <td>1.309</td>\n",
       "      <td>-0.455</td>\n",
       "      <td>-0.236</td>\n",
       "      <td>0.276</td>\n",
       "      <td>-2.246</td>\n",
       "      <td>1.825</td>\n",
       "      <td>...</td>\n",
       "      <td>0.867</td>\n",
       "      <td>1.347</td>\n",
       "      <td>0.504</td>\n",
       "      <td>-0.649</td>\n",
       "      <td>0.672</td>\n",
       "      <td>-2.097</td>\n",
       "      <td>1.051</td>\n",
       "      <td>-0.414</td>\n",
       "      <td>1.038</td>\n",
       "      <td>-1.065</td>\n",
       "    </tr>\n",
       "    <tr>\n",
       "      <th>1</th>\n",
       "      <td>1.081</td>\n",
       "      <td>-0.973</td>\n",
       "      <td>-0.383</td>\n",
       "      <td>0.326</td>\n",
       "      <td>-0.428</td>\n",
       "      <td>0.317</td>\n",
       "      <td>1.172</td>\n",
       "      <td>0.352</td>\n",
       "      <td>0.004</td>\n",
       "      <td>-0.291</td>\n",
       "      <td>...</td>\n",
       "      <td>-0.165</td>\n",
       "      <td>-1.695</td>\n",
       "      <td>-1.257</td>\n",
       "      <td>1.359</td>\n",
       "      <td>-0.808</td>\n",
       "      <td>-1.624</td>\n",
       "      <td>-0.458</td>\n",
       "      <td>-1.099</td>\n",
       "      <td>-0.936</td>\n",
       "      <td>0.973</td>\n",
       "    </tr>\n",
       "  </tbody>\n",
       "</table>\n",
       "<p>2 rows × 300 columns</p>\n",
       "</div>"
      ],
      "text/plain": [
       "       0      1      2      3      4      5      6      7      8      9  ...  \\\n",
       "0 -0.098  2.165  0.681 -0.614  1.309 -0.455 -0.236  0.276 -2.246  1.825  ...   \n",
       "1  1.081 -0.973 -0.383  0.326 -0.428  0.317  1.172  0.352  0.004 -0.291  ...   \n",
       "\n",
       "     290    291    292    293    294    295    296    297    298    299  \n",
       "0  0.867  1.347  0.504 -0.649  0.672 -2.097  1.051 -0.414  1.038 -1.065  \n",
       "1 -0.165 -1.695 -1.257  1.359 -0.808 -1.624 -0.458 -1.099 -0.936  0.973  \n",
       "\n",
       "[2 rows x 300 columns]"
      ]
     },
     "execution_count": 3,
     "metadata": {},
     "output_type": "execute_result"
    }
   ],
   "source": [
    "data_1=data.drop(['id','target'],axis=1)\n",
    "data_1.head(2)"
   ]
  },
  {
   "cell_type": "code",
   "execution_count": 4,
   "metadata": {},
   "outputs": [
    {
     "data": {
      "text/html": [
       "<div>\n",
       "<style scoped>\n",
       "    .dataframe tbody tr th:only-of-type {\n",
       "        vertical-align: middle;\n",
       "    }\n",
       "\n",
       "    .dataframe tbody tr th {\n",
       "        vertical-align: top;\n",
       "    }\n",
       "\n",
       "    .dataframe thead th {\n",
       "        text-align: right;\n",
       "    }\n",
       "</style>\n",
       "<table border=\"1\" class=\"dataframe\">\n",
       "  <thead>\n",
       "    <tr style=\"text-align: right;\">\n",
       "      <th></th>\n",
       "      <th>target</th>\n",
       "      <th>0</th>\n",
       "      <th>1</th>\n",
       "      <th>2</th>\n",
       "      <th>3</th>\n",
       "      <th>4</th>\n",
       "      <th>5</th>\n",
       "      <th>6</th>\n",
       "      <th>7</th>\n",
       "      <th>8</th>\n",
       "      <th>...</th>\n",
       "      <th>290</th>\n",
       "      <th>291</th>\n",
       "      <th>292</th>\n",
       "      <th>293</th>\n",
       "      <th>294</th>\n",
       "      <th>295</th>\n",
       "      <th>296</th>\n",
       "      <th>297</th>\n",
       "      <th>298</th>\n",
       "      <th>299</th>\n",
       "    </tr>\n",
       "  </thead>\n",
       "  <tbody>\n",
       "    <tr>\n",
       "      <th>0</th>\n",
       "      <td>1.0</td>\n",
       "      <td>-0.098</td>\n",
       "      <td>2.165</td>\n",
       "      <td>0.681</td>\n",
       "      <td>-0.614</td>\n",
       "      <td>1.309</td>\n",
       "      <td>-0.455</td>\n",
       "      <td>-0.236</td>\n",
       "      <td>0.276</td>\n",
       "      <td>-2.246</td>\n",
       "      <td>...</td>\n",
       "      <td>0.867</td>\n",
       "      <td>1.347</td>\n",
       "      <td>0.504</td>\n",
       "      <td>-0.649</td>\n",
       "      <td>0.672</td>\n",
       "      <td>-2.097</td>\n",
       "      <td>1.051</td>\n",
       "      <td>-0.414</td>\n",
       "      <td>1.038</td>\n",
       "      <td>-1.065</td>\n",
       "    </tr>\n",
       "    <tr>\n",
       "      <th>1</th>\n",
       "      <td>0.0</td>\n",
       "      <td>1.081</td>\n",
       "      <td>-0.973</td>\n",
       "      <td>-0.383</td>\n",
       "      <td>0.326</td>\n",
       "      <td>-0.428</td>\n",
       "      <td>0.317</td>\n",
       "      <td>1.172</td>\n",
       "      <td>0.352</td>\n",
       "      <td>0.004</td>\n",
       "      <td>...</td>\n",
       "      <td>-0.165</td>\n",
       "      <td>-1.695</td>\n",
       "      <td>-1.257</td>\n",
       "      <td>1.359</td>\n",
       "      <td>-0.808</td>\n",
       "      <td>-1.624</td>\n",
       "      <td>-0.458</td>\n",
       "      <td>-1.099</td>\n",
       "      <td>-0.936</td>\n",
       "      <td>0.973</td>\n",
       "    </tr>\n",
       "  </tbody>\n",
       "</table>\n",
       "<p>2 rows × 301 columns</p>\n",
       "</div>"
      ],
      "text/plain": [
       "   target      0      1      2      3      4      5      6      7      8  ...  \\\n",
       "0     1.0 -0.098  2.165  0.681 -0.614  1.309 -0.455 -0.236  0.276 -2.246  ...   \n",
       "1     0.0  1.081 -0.973 -0.383  0.326 -0.428  0.317  1.172  0.352  0.004  ...   \n",
       "\n",
       "     290    291    292    293    294    295    296    297    298    299  \n",
       "0  0.867  1.347  0.504 -0.649  0.672 -2.097  1.051 -0.414  1.038 -1.065  \n",
       "1 -0.165 -1.695 -1.257  1.359 -0.808 -1.624 -0.458 -1.099 -0.936  0.973  \n",
       "\n",
       "[2 rows x 301 columns]"
      ]
     },
     "execution_count": 4,
     "metadata": {},
     "output_type": "execute_result"
    }
   ],
   "source": [
    "data_2=data.drop(['id'],axis=1)\n",
    "data_2.head(2)"
   ]
  },
  {
   "cell_type": "code",
   "execution_count": 5,
   "metadata": {},
   "outputs": [
    {
     "data": {
      "text/plain": [
       "1.0    160\n",
       "0.0     90\n",
       "Name: target, dtype: int64"
      ]
     },
     "execution_count": 5,
     "metadata": {},
     "output_type": "execute_result"
    }
   ],
   "source": [
    "data['target'].value_counts()"
   ]
  },
  {
   "cell_type": "code",
   "execution_count": 6,
   "metadata": {},
   "outputs": [],
   "source": [
    "def feature_enginnering(data_1,data_2):\n",
    "    data_2['mean']=np.mean(data_1,axis=1)\n",
    "    data_2['std_dev']=np.std(data_1,axis=1)\n",
    "    data_2['variance']=np.var(data_1,axis=1)\n",
    "    data_2['median']=np.median(data_1,axis=1)\n",
    "    \n",
    "    sine_standard_scaler=np.sin(data_1)\n",
    "    cosine_standard_scaler=np.cos(data_1)\n",
    "    tan_standard_scaler=np.tan(data_1)\n",
    "    sinh_standard_scaler=np.sinh(data_1)\n",
    "    cosh_standard_scaler=np.cosh(data_1)\n",
    "    tanh_standard_scaler=np.tanh(data_1)\n",
    "    \n",
    "    data_2['sine']=np.mean(sine_standard_scaler,axis=1)\n",
    "    data_2['cosine']=np.mean(cosine_standard_scaler,axis=1)\n",
    "    data_2['tan']=np.mean(tan_standard_scaler,axis=1)\n",
    "    data_2['sinh']=np.mean(sinh_standard_scaler,axis=1)\n",
    "    data_2['cosh']=np.mean(cosh_standard_scaler,axis=1)\n",
    "    data_2['tanh']=np.mean(tanh_standard_scaler,axis=1)\n",
    "\n",
    "    data_2['std_sine']=np.std(sine_standard_scaler,axis=1)\n",
    "    data_2['std_cosine']=np.std(cosine_standard_scaler,axis=1)\n",
    "    data_2['std_tan']=np.std(tan_standard_scaler,axis=1)\n",
    "    data_2['std_sinh']=np.std(sinh_standard_scaler,axis=1)\n",
    "    data_2['std_cosh']=np.std(cosh_standard_scaler,axis=1)\n",
    "    data_2['std_tanh']=np.std(tanh_standard_scaler,axis=1)\n",
    "\n",
    "\n",
    "    data_2['var_sine']=np.var(sine_standard_scaler,axis=1)\n",
    "    data_2['var_cosine']=np.var(cosine_standard_scaler,axis=1)\n",
    "    data_2['var_tan']=np.var(tan_standard_scaler,axis=1)\n",
    "    data_2['var_sinh']=np.var(sinh_standard_scaler,axis=1)\n",
    "    data_2['var_cosh']=np.var(cosh_standard_scaler,axis=1)\n",
    "    data_2['var_tanh']=np.var(tanh_standard_scaler,axis=1)\n",
    "\n",
    "\n",
    "    data_2['median_sine']=np.median(sine_standard_scaler,axis=1)\n",
    "    data_2['median_cosine']=np.median(cosine_standard_scaler,axis=1)\n",
    "    data_2['median_tan']=np.median(tan_standard_scaler,axis=1)\n",
    "    data_2['median_sinh']=np.median(sinh_standard_scaler,axis=1)\n",
    "    data_2['mediam_cosh']=np.median(cosh_standard_scaler,axis=1)\n",
    "    data_2['median_tanh']=np.median(tanh_standard_scaler,axis=1)\n",
    "\n",
    "\n",
    "    data_2['mean_square']=np.mean(np.power(data_1,2),axis=1)\n",
    "    data_2['mean_cube']=np.mean(np.power(data_1,3),axis=1)\n",
    "    data_2['mean_four']=np.mean(np.power(data_1,4),axis=1)\n",
    "    \n",
    "    exp_standard_scaler=np.exp(data_1)\n",
    "    exp2_standard_scaler=np.exp2(data_1)\n",
    "    expm1_standard_scaler=np.expm1(data_1)\n",
    "    \n",
    "    data_2['mean_exp']=np.mean(exp_standard_scaler,axis=1)\n",
    "    data_2['mean_exp2']=np.mean(exp2_standard_scaler,axis=1)\n",
    "    data_2['mean_expm']=np.mean(expm1_standard_scaler,axis=1)\n",
    "\n",
    "    data_2['median_exp']=np.median(exp_standard_scaler,axis=1)\n",
    "    data_2['median_exp2']=np.median(exp2_standard_scaler,axis=1)\n",
    "    data_2['median_expm']=np.median(expm1_standard_scaler,axis=1)\n",
    "\n",
    "    data_2['std_exp']=np.std(exp_standard_scaler,axis=1)\n",
    "    data_2['std_exp2']=np.std(exp2_standard_scaler,axis=1)\n",
    "    data_2['std_expm']=np.std(expm1_standard_scaler,axis=1)\n",
    "\n",
    "\n",
    "    data_2['var_exp']=np.var(exp_standard_scaler,axis=1)\n",
    "    data_2['var_exp2']=np.var(exp2_standard_scaler,axis=1)\n",
    "    data_2['var_expm']=np.var(expm1_standard_scaler,axis=1)\n",
    "    \n",
    "    # calcualting mean absolute deviation\n",
    "    data_2['mad']=data_1.mad(axis=1)\n",
    "    \n",
    "    data_new=pd.DataFrame()\n",
    "    for i in data_1.columns.values:\n",
    "        data_new[int(i)]=data_1.iloc[:,int(i)]+abs(data_1.iloc[:,int(i)].min())     \n",
    "    data_new_square=np.sqrt(data_new)\n",
    "    data_2['square_root_mean']=np.mean(data_new,axis=1)\n",
    "    data_2['square_root_median']=np.median(data_new,axis=1)\n",
    "    data_2['square_root_std_dev']=np.std(data_new,axis=1)\n",
    "    data_2['square_root_var']=np.var(data_new,axis=1)\n",
    "    \n",
    "    return data_2\n",
    "    "
   ]
  },
  {
   "cell_type": "code",
   "execution_count": 7,
   "metadata": {},
   "outputs": [
    {
     "data": {
      "text/html": [
       "<div>\n",
       "<style scoped>\n",
       "    .dataframe tbody tr th:only-of-type {\n",
       "        vertical-align: middle;\n",
       "    }\n",
       "\n",
       "    .dataframe tbody tr th {\n",
       "        vertical-align: top;\n",
       "    }\n",
       "\n",
       "    .dataframe thead th {\n",
       "        text-align: right;\n",
       "    }\n",
       "</style>\n",
       "<table border=\"1\" class=\"dataframe\">\n",
       "  <thead>\n",
       "    <tr style=\"text-align: right;\">\n",
       "      <th></th>\n",
       "      <th>target</th>\n",
       "      <th>0</th>\n",
       "      <th>1</th>\n",
       "      <th>2</th>\n",
       "      <th>3</th>\n",
       "      <th>4</th>\n",
       "      <th>5</th>\n",
       "      <th>6</th>\n",
       "      <th>7</th>\n",
       "      <th>8</th>\n",
       "      <th>...</th>\n",
       "      <th>290</th>\n",
       "      <th>291</th>\n",
       "      <th>292</th>\n",
       "      <th>293</th>\n",
       "      <th>294</th>\n",
       "      <th>295</th>\n",
       "      <th>296</th>\n",
       "      <th>297</th>\n",
       "      <th>298</th>\n",
       "      <th>299</th>\n",
       "    </tr>\n",
       "  </thead>\n",
       "  <tbody>\n",
       "    <tr>\n",
       "      <th>0</th>\n",
       "      <td>1.0</td>\n",
       "      <td>-0.098</td>\n",
       "      <td>2.165</td>\n",
       "      <td>0.681</td>\n",
       "      <td>-0.614</td>\n",
       "      <td>1.309</td>\n",
       "      <td>-0.455</td>\n",
       "      <td>-0.236</td>\n",
       "      <td>0.276</td>\n",
       "      <td>-2.246</td>\n",
       "      <td>...</td>\n",
       "      <td>0.867</td>\n",
       "      <td>1.347</td>\n",
       "      <td>0.504</td>\n",
       "      <td>-0.649</td>\n",
       "      <td>0.672</td>\n",
       "      <td>-2.097</td>\n",
       "      <td>1.051</td>\n",
       "      <td>-0.414</td>\n",
       "      <td>1.038</td>\n",
       "      <td>-1.065</td>\n",
       "    </tr>\n",
       "    <tr>\n",
       "      <th>1</th>\n",
       "      <td>0.0</td>\n",
       "      <td>1.081</td>\n",
       "      <td>-0.973</td>\n",
       "      <td>-0.383</td>\n",
       "      <td>0.326</td>\n",
       "      <td>-0.428</td>\n",
       "      <td>0.317</td>\n",
       "      <td>1.172</td>\n",
       "      <td>0.352</td>\n",
       "      <td>0.004</td>\n",
       "      <td>...</td>\n",
       "      <td>-0.165</td>\n",
       "      <td>-1.695</td>\n",
       "      <td>-1.257</td>\n",
       "      <td>1.359</td>\n",
       "      <td>-0.808</td>\n",
       "      <td>-1.624</td>\n",
       "      <td>-0.458</td>\n",
       "      <td>-1.099</td>\n",
       "      <td>-0.936</td>\n",
       "      <td>0.973</td>\n",
       "    </tr>\n",
       "  </tbody>\n",
       "</table>\n",
       "<p>2 rows × 301 columns</p>\n",
       "</div>"
      ],
      "text/plain": [
       "   target      0      1      2      3      4      5      6      7      8  ...  \\\n",
       "0     1.0 -0.098  2.165  0.681 -0.614  1.309 -0.455 -0.236  0.276 -2.246  ...   \n",
       "1     0.0  1.081 -0.973 -0.383  0.326 -0.428  0.317  1.172  0.352  0.004  ...   \n",
       "\n",
       "     290    291    292    293    294    295    296    297    298    299  \n",
       "0  0.867  1.347  0.504 -0.649  0.672 -2.097  1.051 -0.414  1.038 -1.065  \n",
       "1 -0.165 -1.695 -1.257  1.359 -0.808 -1.624 -0.458 -1.099 -0.936  0.973  \n",
       "\n",
       "[2 rows x 301 columns]"
      ]
     },
     "execution_count": 7,
     "metadata": {},
     "output_type": "execute_result"
    }
   ],
   "source": [
    "data_2.head(2)"
   ]
  },
  {
   "cell_type": "code",
   "execution_count": 8,
   "metadata": {},
   "outputs": [],
   "source": [
    "y=data_2['target'].values\n",
    "X=data_2.drop(['target'],axis=1)"
   ]
  },
  {
   "cell_type": "code",
   "execution_count": 9,
   "metadata": {},
   "outputs": [
    {
     "data": {
      "text/html": [
       "<div>\n",
       "<style scoped>\n",
       "    .dataframe tbody tr th:only-of-type {\n",
       "        vertical-align: middle;\n",
       "    }\n",
       "\n",
       "    .dataframe tbody tr th {\n",
       "        vertical-align: top;\n",
       "    }\n",
       "\n",
       "    .dataframe thead th {\n",
       "        text-align: right;\n",
       "    }\n",
       "</style>\n",
       "<table border=\"1\" class=\"dataframe\">\n",
       "  <thead>\n",
       "    <tr style=\"text-align: right;\">\n",
       "      <th></th>\n",
       "      <th>0</th>\n",
       "      <th>1</th>\n",
       "      <th>2</th>\n",
       "      <th>3</th>\n",
       "      <th>4</th>\n",
       "      <th>5</th>\n",
       "      <th>6</th>\n",
       "      <th>7</th>\n",
       "      <th>8</th>\n",
       "      <th>9</th>\n",
       "      <th>...</th>\n",
       "      <th>290</th>\n",
       "      <th>291</th>\n",
       "      <th>292</th>\n",
       "      <th>293</th>\n",
       "      <th>294</th>\n",
       "      <th>295</th>\n",
       "      <th>296</th>\n",
       "      <th>297</th>\n",
       "      <th>298</th>\n",
       "      <th>299</th>\n",
       "    </tr>\n",
       "  </thead>\n",
       "  <tbody>\n",
       "    <tr>\n",
       "      <th>0</th>\n",
       "      <td>-0.098</td>\n",
       "      <td>2.165</td>\n",
       "      <td>0.681</td>\n",
       "      <td>-0.614</td>\n",
       "      <td>1.309</td>\n",
       "      <td>-0.455</td>\n",
       "      <td>-0.236</td>\n",
       "      <td>0.276</td>\n",
       "      <td>-2.246</td>\n",
       "      <td>1.825</td>\n",
       "      <td>...</td>\n",
       "      <td>0.867</td>\n",
       "      <td>1.347</td>\n",
       "      <td>0.504</td>\n",
       "      <td>-0.649</td>\n",
       "      <td>0.672</td>\n",
       "      <td>-2.097</td>\n",
       "      <td>1.051</td>\n",
       "      <td>-0.414</td>\n",
       "      <td>1.038</td>\n",
       "      <td>-1.065</td>\n",
       "    </tr>\n",
       "    <tr>\n",
       "      <th>1</th>\n",
       "      <td>1.081</td>\n",
       "      <td>-0.973</td>\n",
       "      <td>-0.383</td>\n",
       "      <td>0.326</td>\n",
       "      <td>-0.428</td>\n",
       "      <td>0.317</td>\n",
       "      <td>1.172</td>\n",
       "      <td>0.352</td>\n",
       "      <td>0.004</td>\n",
       "      <td>-0.291</td>\n",
       "      <td>...</td>\n",
       "      <td>-0.165</td>\n",
       "      <td>-1.695</td>\n",
       "      <td>-1.257</td>\n",
       "      <td>1.359</td>\n",
       "      <td>-0.808</td>\n",
       "      <td>-1.624</td>\n",
       "      <td>-0.458</td>\n",
       "      <td>-1.099</td>\n",
       "      <td>-0.936</td>\n",
       "      <td>0.973</td>\n",
       "    </tr>\n",
       "  </tbody>\n",
       "</table>\n",
       "<p>2 rows × 300 columns</p>\n",
       "</div>"
      ],
      "text/plain": [
       "       0      1      2      3      4      5      6      7      8      9  ...  \\\n",
       "0 -0.098  2.165  0.681 -0.614  1.309 -0.455 -0.236  0.276 -2.246  1.825  ...   \n",
       "1  1.081 -0.973 -0.383  0.326 -0.428  0.317  1.172  0.352  0.004 -0.291  ...   \n",
       "\n",
       "     290    291    292    293    294    295    296    297    298    299  \n",
       "0  0.867  1.347  0.504 -0.649  0.672 -2.097  1.051 -0.414  1.038 -1.065  \n",
       "1 -0.165 -1.695 -1.257  1.359 -0.808 -1.624 -0.458 -1.099 -0.936  0.973  \n",
       "\n",
       "[2 rows x 300 columns]"
      ]
     },
     "execution_count": 9,
     "metadata": {},
     "output_type": "execute_result"
    }
   ],
   "source": [
    "X.head(2)"
   ]
  },
  {
   "cell_type": "code",
   "execution_count": 10,
   "metadata": {},
   "outputs": [
    {
     "name": "stdout",
     "output_type": "stream",
     "text": [
      "(175, 300) (175,)\n",
      "(75, 300) (75,)\n"
     ]
    }
   ],
   "source": [
    "X_train,X_test,y_train,y_test=train_test_split(X,y,test_size=0.3,stratify=y,random_state=10)\n",
    "print((X_train.shape),y_train.shape)\n",
    "print((X_test.shape),y_test.shape)"
   ]
  },
  {
   "cell_type": "code",
   "execution_count": 11,
   "metadata": {},
   "outputs": [],
   "source": [
    "def standard_scaler(X_train,X_test):\n",
    "    standard_scaler=StandardScaler()\n",
    "    X_train=standard_scaler.fit_transform(X_train)\n",
    "    X_test=standard_scaler.transform(X_test)\n",
    "    data_train=pd.DataFrame(X_train)\n",
    "    data_test=pd.DataFrame(X_test)\n",
    "    \n",
    "    return X_train,X_test,data_train,data_test"
   ]
  },
  {
   "cell_type": "code",
   "execution_count": 12,
   "metadata": {},
   "outputs": [],
   "source": [
    "def oversampled_ss(X_train,y_train):\n",
    "    smote=SMOTE()\n",
    "    X_train_os,y_train_os=smote.fit_resample(X_train,y_train)\n",
    "    return X_train_os,y_train_os"
   ]
  },
  {
   "cell_type": "code",
   "execution_count": 13,
   "metadata": {},
   "outputs": [],
   "source": [
    "X_train_ss,X_test_ss,df_train_ss,df_test_ss=standard_scaler(X_train,X_test)"
   ]
  },
  {
   "cell_type": "code",
   "execution_count": 14,
   "metadata": {},
   "outputs": [
    {
     "data": {
      "text/html": [
       "<div>\n",
       "<style scoped>\n",
       "    .dataframe tbody tr th:only-of-type {\n",
       "        vertical-align: middle;\n",
       "    }\n",
       "\n",
       "    .dataframe tbody tr th {\n",
       "        vertical-align: top;\n",
       "    }\n",
       "\n",
       "    .dataframe thead th {\n",
       "        text-align: right;\n",
       "    }\n",
       "</style>\n",
       "<table border=\"1\" class=\"dataframe\">\n",
       "  <thead>\n",
       "    <tr style=\"text-align: right;\">\n",
       "      <th></th>\n",
       "      <th>0</th>\n",
       "      <th>1</th>\n",
       "      <th>2</th>\n",
       "      <th>3</th>\n",
       "      <th>4</th>\n",
       "      <th>5</th>\n",
       "      <th>6</th>\n",
       "      <th>7</th>\n",
       "      <th>8</th>\n",
       "      <th>9</th>\n",
       "      <th>...</th>\n",
       "      <th>290</th>\n",
       "      <th>291</th>\n",
       "      <th>292</th>\n",
       "      <th>293</th>\n",
       "      <th>294</th>\n",
       "      <th>295</th>\n",
       "      <th>296</th>\n",
       "      <th>297</th>\n",
       "      <th>298</th>\n",
       "      <th>299</th>\n",
       "    </tr>\n",
       "  </thead>\n",
       "  <tbody>\n",
       "    <tr>\n",
       "      <th>0</th>\n",
       "      <td>-0.889812</td>\n",
       "      <td>0.645030</td>\n",
       "      <td>0.812990</td>\n",
       "      <td>-0.108914</td>\n",
       "      <td>2.262384</td>\n",
       "      <td>0.371064</td>\n",
       "      <td>0.094297</td>\n",
       "      <td>0.128186</td>\n",
       "      <td>-0.785219</td>\n",
       "      <td>-1.623767</td>\n",
       "      <td>...</td>\n",
       "      <td>-1.416144</td>\n",
       "      <td>-0.481301</td>\n",
       "      <td>-0.414195</td>\n",
       "      <td>-0.246371</td>\n",
       "      <td>0.987965</td>\n",
       "      <td>-0.472384</td>\n",
       "      <td>0.265993</td>\n",
       "      <td>-0.726586</td>\n",
       "      <td>0.808035</td>\n",
       "      <td>0.873232</td>\n",
       "    </tr>\n",
       "    <tr>\n",
       "      <th>1</th>\n",
       "      <td>0.318855</td>\n",
       "      <td>0.528741</td>\n",
       "      <td>-1.923252</td>\n",
       "      <td>-0.557782</td>\n",
       "      <td>-0.090918</td>\n",
       "      <td>0.581112</td>\n",
       "      <td>-1.432389</td>\n",
       "      <td>0.371111</td>\n",
       "      <td>-1.407422</td>\n",
       "      <td>0.351006</td>\n",
       "      <td>...</td>\n",
       "      <td>-1.242944</td>\n",
       "      <td>-1.254830</td>\n",
       "      <td>0.481473</td>\n",
       "      <td>0.466551</td>\n",
       "      <td>0.741324</td>\n",
       "      <td>-1.719410</td>\n",
       "      <td>-0.118657</td>\n",
       "      <td>-0.484095</td>\n",
       "      <td>-1.948296</td>\n",
       "      <td>-0.107088</td>\n",
       "    </tr>\n",
       "  </tbody>\n",
       "</table>\n",
       "<p>2 rows × 300 columns</p>\n",
       "</div>"
      ],
      "text/plain": [
       "        0         1         2         3         4         5         6    \\\n",
       "0 -0.889812  0.645030  0.812990 -0.108914  2.262384  0.371064  0.094297   \n",
       "1  0.318855  0.528741 -1.923252 -0.557782 -0.090918  0.581112 -1.432389   \n",
       "\n",
       "        7         8         9    ...       290       291       292       293  \\\n",
       "0  0.128186 -0.785219 -1.623767  ... -1.416144 -0.481301 -0.414195 -0.246371   \n",
       "1  0.371111 -1.407422  0.351006  ... -1.242944 -1.254830  0.481473  0.466551   \n",
       "\n",
       "        294       295       296       297       298       299  \n",
       "0  0.987965 -0.472384  0.265993 -0.726586  0.808035  0.873232  \n",
       "1  0.741324 -1.719410 -0.118657 -0.484095 -1.948296 -0.107088  \n",
       "\n",
       "[2 rows x 300 columns]"
      ]
     },
     "execution_count": 14,
     "metadata": {},
     "output_type": "execute_result"
    }
   ],
   "source": [
    "df_train_ss.head(2)"
   ]
  },
  {
   "cell_type": "code",
   "execution_count": 15,
   "metadata": {},
   "outputs": [],
   "source": [
    "def parameters_models(model,param,X,y):\n",
    "    best_cv=StratifiedKFold(n_splits=7)\n",
    "    classifier=GridSearchCV(model,param,cv=best_cv,n_jobs=-1,scoring='roc_auc',return_train_score=True,verbose=1)\n",
    "    classifier.fit(X,y)\n",
    "    train_auc=classifier.cv_results_['mean_train_score']\n",
    "    train_auc_std=classifier.cv_results_['std_train_score']\n",
    "    cv_auc = classifier.cv_results_['mean_test_score'] \n",
    "    cv_auc_std= classifier.cv_results_['std_test_score']\n",
    "\n",
    "    print(\"best alpha/parameter\",classifier.best_params_)\n",
    "    \n",
    "    return classifier\n",
    "    "
   ]
  },
  {
   "cell_type": "code",
   "execution_count": 16,
   "metadata": {},
   "outputs": [],
   "source": [
    "def roc_auc_curve(y_train,y_train_pred,y_test,y_test_pred):\n",
    "\n",
    "    train_fpr, train_tpr, tr_thresholds = roc_curve(y_train, y_train_pred)\n",
    "    test_fpr, test_tpr, te_thresholds = roc_curve(y_test, y_test_pred)\n",
    "\n",
    "    plt.plot(train_fpr, train_tpr, label=\"train AUC =\"+str(auc(train_fpr, train_tpr)))\n",
    "    plt.plot(test_fpr, test_tpr, label=\"test AUC =\"+str(auc(test_fpr, test_tpr)))\n",
    "    plt.legend()\n",
    "    plt.xlabel(\"False positive rate(FPR)\")\n",
    "    plt.ylabel(\"True positive rate(TPR)\")\n",
    "    plt.title(\"AUC\")\n",
    "    plt.grid()\n",
    "    plt.show()"
   ]
  },
  {
   "cell_type": "code",
   "execution_count": 17,
   "metadata": {},
   "outputs": [],
   "source": [
    "def feature_selection(model,X,y):\n",
    "    rfecv=RFECV(model,step=1,min_features_to_select=40,cv=best_cv,verbose=1,scoring='roc_auc',n_jobs=-1)\n",
    "    rfecv.fit(X,y)\n",
    "    print(\"Optimal Feature\",rfecv.n_features_)\n",
    "    print(\"Feature_names\",rfecv.get_feature_names_out())\n",
    "    \n",
    "    return rfecv.support_\n",
    "    "
   ]
  },
  {
   "cell_type": "code",
   "execution_count": 18,
   "metadata": {},
   "outputs": [],
   "source": [
    "def box_cox_transformation(train_dataframe,test_dataframe):\n",
    "    power_transformer=PowerTransformer(method='yeo-johnson')\n",
    "    final_dataframe_train_box=power_transformer.fit_transform(train_dataframe)\n",
    "    final_dataframe_test_box=power_transformer.transform(test_dataframe)\n",
    "    \n",
    "    return final_dataframe_train_box,final_dataframe_test_box"
   ]
  },
  {
   "cell_type": "markdown",
   "metadata": {},
   "source": [
    "## Decison Tree classifier using RFECV"
   ]
  },
  {
   "cell_type": "code",
   "execution_count": 19,
   "metadata": {},
   "outputs": [],
   "source": [
    "decision_tree=DecisionTreeClassifier()\n",
    "best_cv=StratifiedKFold(n_splits=7)"
   ]
  },
  {
   "cell_type": "code",
   "execution_count": 20,
   "metadata": {},
   "outputs": [
    {
     "name": "stdout",
     "output_type": "stream",
     "text": [
      "Fitting estimator with 300 features.\n",
      "Fitting estimator with 299 features.\n",
      "Fitting estimator with 298 features.\n",
      "Fitting estimator with 297 features.\n",
      "Fitting estimator with 296 features.\n",
      "Fitting estimator with 295 features.\n",
      "Fitting estimator with 294 features.\n",
      "Fitting estimator with 293 features.\n",
      "Fitting estimator with 292 features.\n",
      "Fitting estimator with 291 features.\n",
      "Fitting estimator with 290 features.\n",
      "Fitting estimator with 289 features.\n",
      "Fitting estimator with 288 features.\n",
      "Fitting estimator with 287 features.\n",
      "Fitting estimator with 286 features.\n",
      "Fitting estimator with 285 features.\n",
      "Fitting estimator with 284 features.\n",
      "Fitting estimator with 283 features.\n",
      "Fitting estimator with 282 features.\n",
      "Fitting estimator with 281 features.\n",
      "Fitting estimator with 280 features.\n",
      "Fitting estimator with 279 features.\n",
      "Fitting estimator with 278 features.\n",
      "Optimal Feature 277\n",
      "Feature_names ['x22' 'x23' 'x24' 'x25' 'x26' 'x27' 'x28' 'x29' 'x30' 'x31' 'x32' 'x33'\n",
      " 'x34' 'x35' 'x36' 'x37' 'x38' 'x39' 'x40' 'x41' 'x42' 'x43' 'x44' 'x45'\n",
      " 'x46' 'x47' 'x48' 'x49' 'x50' 'x51' 'x52' 'x53' 'x54' 'x55' 'x56' 'x57'\n",
      " 'x58' 'x59' 'x60' 'x61' 'x62' 'x63' 'x64' 'x65' 'x66' 'x67' 'x68' 'x69'\n",
      " 'x70' 'x71' 'x72' 'x73' 'x74' 'x75' 'x76' 'x77' 'x78' 'x79' 'x80' 'x81'\n",
      " 'x82' 'x83' 'x84' 'x85' 'x86' 'x87' 'x88' 'x89' 'x90' 'x91' 'x92' 'x93'\n",
      " 'x94' 'x95' 'x96' 'x97' 'x98' 'x99' 'x100' 'x101' 'x102' 'x103' 'x104'\n",
      " 'x105' 'x106' 'x107' 'x108' 'x109' 'x110' 'x111' 'x112' 'x113' 'x114'\n",
      " 'x115' 'x116' 'x117' 'x118' 'x119' 'x120' 'x121' 'x122' 'x123' 'x124'\n",
      " 'x125' 'x126' 'x127' 'x128' 'x129' 'x130' 'x131' 'x132' 'x133' 'x134'\n",
      " 'x135' 'x136' 'x137' 'x138' 'x139' 'x140' 'x141' 'x142' 'x143' 'x144'\n",
      " 'x145' 'x146' 'x147' 'x148' 'x149' 'x150' 'x151' 'x152' 'x153' 'x154'\n",
      " 'x155' 'x156' 'x158' 'x159' 'x160' 'x161' 'x162' 'x163' 'x164' 'x165'\n",
      " 'x166' 'x167' 'x168' 'x169' 'x170' 'x171' 'x172' 'x173' 'x174' 'x175'\n",
      " 'x176' 'x177' 'x178' 'x179' 'x180' 'x181' 'x182' 'x183' 'x184' 'x185'\n",
      " 'x186' 'x187' 'x188' 'x189' 'x190' 'x191' 'x192' 'x193' 'x194' 'x195'\n",
      " 'x196' 'x197' 'x198' 'x199' 'x200' 'x201' 'x202' 'x203' 'x204' 'x205'\n",
      " 'x206' 'x207' 'x208' 'x209' 'x210' 'x211' 'x212' 'x213' 'x214' 'x215'\n",
      " 'x216' 'x217' 'x218' 'x219' 'x220' 'x221' 'x222' 'x223' 'x224' 'x225'\n",
      " 'x226' 'x227' 'x228' 'x229' 'x230' 'x231' 'x232' 'x233' 'x234' 'x235'\n",
      " 'x236' 'x237' 'x238' 'x239' 'x240' 'x241' 'x242' 'x243' 'x244' 'x245'\n",
      " 'x246' 'x247' 'x248' 'x249' 'x250' 'x251' 'x252' 'x253' 'x254' 'x255'\n",
      " 'x256' 'x257' 'x258' 'x259' 'x260' 'x261' 'x262' 'x263' 'x264' 'x265'\n",
      " 'x266' 'x267' 'x268' 'x269' 'x270' 'x271' 'x272' 'x273' 'x274' 'x275'\n",
      " 'x276' 'x277' 'x278' 'x279' 'x280' 'x281' 'x282' 'x283' 'x284' 'x285'\n",
      " 'x286' 'x287' 'x288' 'x289' 'x290' 'x291' 'x292' 'x293' 'x294' 'x295'\n",
      " 'x296' 'x297' 'x298' 'x299']\n"
     ]
    }
   ],
   "source": [
    "rfecv=feature_selection(decision_tree,X_train_ss,y_train)"
   ]
  },
  {
   "cell_type": "code",
   "execution_count": 21,
   "metadata": {},
   "outputs": [
    {
     "name": "stdout",
     "output_type": "stream",
     "text": [
      "[False False False False False False False False False False False False\n",
      " False False False False False False False False False False  True  True\n",
      "  True  True  True  True  True  True  True  True  True  True  True  True\n",
      "  True  True  True  True  True  True  True  True  True  True  True  True\n",
      "  True  True  True  True  True  True  True  True  True  True  True  True\n",
      "  True  True  True  True  True  True  True  True  True  True  True  True\n",
      "  True  True  True  True  True  True  True  True  True  True  True  True\n",
      "  True  True  True  True  True  True  True  True  True  True  True  True\n",
      "  True  True  True  True  True  True  True  True  True  True  True  True\n",
      "  True  True  True  True  True  True  True  True  True  True  True  True\n",
      "  True  True  True  True  True  True  True  True  True  True  True  True\n",
      "  True  True  True  True  True  True  True  True  True  True  True  True\n",
      "  True  True  True  True  True  True  True  True  True  True  True  True\n",
      "  True False  True  True  True  True  True  True  True  True  True  True\n",
      "  True  True  True  True  True  True  True  True  True  True  True  True\n",
      "  True  True  True  True  True  True  True  True  True  True  True  True\n",
      "  True  True  True  True  True  True  True  True  True  True  True  True\n",
      "  True  True  True  True  True  True  True  True  True  True  True  True\n",
      "  True  True  True  True  True  True  True  True  True  True  True  True\n",
      "  True  True  True  True  True  True  True  True  True  True  True  True\n",
      "  True  True  True  True  True  True  True  True  True  True  True  True\n",
      "  True  True  True  True  True  True  True  True  True  True  True  True\n",
      "  True  True  True  True  True  True  True  True  True  True  True  True\n",
      "  True  True  True  True  True  True  True  True  True  True  True  True\n",
      "  True  True  True  True  True  True  True  True  True  True  True  True]\n"
     ]
    }
   ],
   "source": [
    "print(rfecv)"
   ]
  },
  {
   "cell_type": "code",
   "execution_count": 22,
   "metadata": {},
   "outputs": [
    {
     "data": {
      "text/plain": [
       "(175, 277)"
      ]
     },
     "execution_count": 22,
     "metadata": {},
     "output_type": "execute_result"
    }
   ],
   "source": [
    "df_train_reduced=df_train_ss[df_train_ss.columns[rfecv]]\n",
    "df_train_reduced.shape"
   ]
  },
  {
   "cell_type": "code",
   "execution_count": 23,
   "metadata": {},
   "outputs": [
    {
     "data": {
      "text/plain": [
       "(75, 277)"
      ]
     },
     "execution_count": 23,
     "metadata": {},
     "output_type": "execute_result"
    }
   ],
   "source": [
    "df_test_reduced=df_test_ss[df_train_ss.columns[rfecv]]\n",
    "df_test_reduced.shape"
   ]
  },
  {
   "cell_type": "code",
   "execution_count": 24,
   "metadata": {},
   "outputs": [
    {
     "data": {
      "text/plain": [
       "DecisionTreeClassifier()"
      ]
     },
     "execution_count": 24,
     "metadata": {},
     "output_type": "execute_result"
    }
   ],
   "source": [
    "decision_tree_model=DecisionTreeClassifier()\n",
    "decision_tree_model.fit(df_train_reduced,y_train)"
   ]
  },
  {
   "cell_type": "code",
   "execution_count": 25,
   "metadata": {},
   "outputs": [],
   "source": [
    "y_train_pred=decision_tree_model.predict_proba(df_train_reduced)\n",
    "y_train_pred = y_train_pred[:, 1]\n",
    "\n",
    "y_test_pred=decision_tree_model.predict_proba(df_test_reduced)\n",
    "y_test_pred=y_test_pred[:,1]\n"
   ]
  },
  {
   "cell_type": "code",
   "execution_count": 26,
   "metadata": {},
   "outputs": [
    {
     "data": {
      "image/png": "[encoded data removed]",
      "text/plain": [
       "<Figure size 432x288 with 1 Axes>"
      ]
     },
     "metadata": {
      "needs_background": "light"
     },
     "output_type": "display_data"
    }
   ],
   "source": [
    "train_fpr, train_tpr, tr_thresholds = roc_curve(y_train, y_train_pred)\n",
    "test_fpr, test_tpr, te_thresholds = roc_curve(y_test, y_test_pred)\n",
    "\n",
    "plt.plot(train_fpr, train_tpr, label=\"train AUC =\"+str(auc(train_fpr, train_tpr)))\n",
    "plt.plot(test_fpr, test_tpr, label=\"test AUC =\"+str(auc(test_fpr, test_tpr)))\n",
    "plt.legend()\n",
    "plt.xlabel(\"False positive rate(FPR)\")\n",
    "plt.ylabel(\"True positive rate(TPR)\")\n",
    "plt.title(\"AUC\")\n",
    "plt.grid()\n",
    "plt.show()"
   ]
  },
  {
   "cell_type": "markdown",
   "metadata": {},
   "source": [
    "## Decision Tree Using hyperparameter"
   ]
  },
  {
   "cell_type": "code",
   "execution_count": 27,
   "metadata": {},
   "outputs": [
    {
     "name": "stdout",
     "output_type": "stream",
     "text": [
      "Fitting 7 folds for each of 72 candidates, totalling 504 fits\n",
      "best alpha/parameter {'criterion': 'entropy', 'max_depth': 4, 'max_features': 'auto', 'min_samples_split': 50}\n",
      "GridSearchCV(cv=StratifiedKFold(n_splits=7, random_state=None, shuffle=False),\n",
      "             estimator=DecisionTreeClassifier(class_weight='balanced'),\n",
      "             n_jobs=-1,\n",
      "             param_grid={'criterion': ['gini', 'entropy'],\n",
      "                         'max_depth': [2, 3, 4, 5],\n",
      "                         'max_features': ['auto', 'sqrt', 'log2'],\n",
      "                         'min_samples_split': [5, 10, 50]},\n",
      "             return_train_score=True, scoring='roc_auc', verbose=1)\n"
     ]
    }
   ],
   "source": [
    "decision_tree=DecisionTreeClassifier(class_weight='balanced')\n",
    "param={'max_depth':[2,3,4,5],'min_samples_split':[5,10,50],'max_features': ['auto', 'sqrt', 'log2'],'criterion': ['gini', 'entropy']}\n",
    "classifier=parameters_models(decision_tree,param,df_train_reduced,y_train)\n",
    "print(classifier)"
   ]
  },
  {
   "cell_type": "code",
   "execution_count": 28,
   "metadata": {},
   "outputs": [
    {
     "data": {
      "text/plain": [
       "DecisionTreeClassifier(criterion='entropy', max_depth=4, max_features='auto',\n",
       "                       min_samples_split=50)"
      ]
     },
     "execution_count": 28,
     "metadata": {},
     "output_type": "execute_result"
    }
   ],
   "source": [
    "decision_tree_model=DecisionTreeClassifier(max_depth=classifier.best_params_['max_depth'],max_features=classifier.best_params_['max_features'],\n",
    "                                          min_samples_split=classifier.best_params_['min_samples_split'],criterion=classifier.best_params_['criterion'])\n",
    "decision_tree_model.fit(df_train_reduced,y_train)"
   ]
  },
  {
   "cell_type": "code",
   "execution_count": 29,
   "metadata": {},
   "outputs": [],
   "source": [
    "y_train_pred=decision_tree_model.predict_proba(df_train_reduced)\n",
    "y_train_pred = y_train_pred[:, 1]\n",
    "\n",
    "y_test_pred=decision_tree_model.predict_proba(df_test_reduced)\n",
    "y_test_pred=y_test_pred[:,1]\n"
   ]
  },
  {
   "cell_type": "code",
   "execution_count": 30,
   "metadata": {},
   "outputs": [
    {
     "data": {
      "image/png": "[encoded data removed]",
      "text/plain": [
       "<Figure size 432x288 with 1 Axes>"
      ]
     },
     "metadata": {
      "needs_background": "light"
     },
     "output_type": "display_data"
    }
   ],
   "source": [
    "roc_auc_curve(y_train,y_train_pred,y_test,y_test_pred)"
   ]
  },
  {
   "cell_type": "markdown",
   "metadata": {},
   "source": [
    "## Feature Enginnering"
   ]
  },
  {
   "cell_type": "markdown",
   "metadata": {},
   "source": [
    "This transformation is explained in EDA video and classroom classes by appliedaicourse under logistic regression module. https://www.appliedaicourse.com/lecture/11/applied-machine-learning-online-course/3025/non-linearly-separable-data-feature-engineering/3/module-3-foundations-of-natural-language-processing-and-machine-learning"
   ]
  },
  {
   "cell_type": "markdown",
   "metadata": {},
   "source": [
    "Feature enginnering on train dataset"
   ]
  },
  {
   "cell_type": "code",
   "execution_count": 31,
   "metadata": {},
   "outputs": [
    {
     "data": {
      "text/plain": [
       "(175, 48)"
      ]
     },
     "execution_count": 31,
     "metadata": {},
     "output_type": "execute_result"
    }
   ],
   "source": [
    "df_train_feature_eng=pd.DataFrame()\n",
    "df_train_feature_eng=feature_enginnering(df_train_ss,df_train_feature_eng)\n",
    "df_train_feature_eng.shape"
   ]
  },
  {
   "cell_type": "markdown",
   "metadata": {},
   "source": [
    "Feature enginnering on test Dataset"
   ]
  },
  {
   "cell_type": "code",
   "execution_count": 32,
   "metadata": {},
   "outputs": [
    {
     "data": {
      "text/plain": [
       "(75, 48)"
      ]
     },
     "execution_count": 32,
     "metadata": {},
     "output_type": "execute_result"
    }
   ],
   "source": [
    "df_test_feature_eng=pd.DataFrame()\n",
    "df_test_feature_eng=feature_enginnering(df_test_ss,df_test_feature_eng)\n",
    "df_test_feature_eng.shape"
   ]
  },
  {
   "cell_type": "markdown",
   "metadata": {},
   "source": [
    "## Merging of Features"
   ]
  },
  {
   "cell_type": "markdown",
   "metadata": {},
   "source": [
    "Merging of features we get from decision tree and enginnered features"
   ]
  },
  {
   "cell_type": "code",
   "execution_count": 33,
   "metadata": {},
   "outputs": [],
   "source": [
    "frames1=[df_train_feature_eng,df_train_reduced]\n",
    "final_dataframe_train=pd.concat(frames1,axis=1)\n",
    "\n",
    "frames=[df_test_feature_eng,df_test_reduced]\n",
    "final_dataframe_test=pd.concat(frames,axis=1)"
   ]
  },
  {
   "cell_type": "code",
   "execution_count": 34,
   "metadata": {},
   "outputs": [
    {
     "data": {
      "text/plain": [
       "(175, 325)"
      ]
     },
     "execution_count": 34,
     "metadata": {},
     "output_type": "execute_result"
    }
   ],
   "source": [
    "final_dataframe_train.shape"
   ]
  },
  {
   "cell_type": "code",
   "execution_count": 35,
   "metadata": {},
   "outputs": [
    {
     "data": {
      "text/plain": [
       "(75, 325)"
      ]
     },
     "execution_count": 35,
     "metadata": {},
     "output_type": "execute_result"
    }
   ],
   "source": [
    "final_dataframe_test.shape"
   ]
  },
  {
   "cell_type": "markdown",
   "metadata": {},
   "source": [
    "# Checking nan and infinity values"
   ]
  },
  {
   "cell_type": "code",
   "execution_count": 36,
   "metadata": {},
   "outputs": [
    {
     "data": {
      "text/plain": [
       "mean        0\n",
       "std_dev     0\n",
       "variance    0\n",
       "median      0\n",
       "sine        0\n",
       "           ..\n",
       "295         0\n",
       "296         0\n",
       "297         0\n",
       "298         0\n",
       "299         0\n",
       "Length: 325, dtype: int64"
      ]
     },
     "execution_count": 36,
     "metadata": {},
     "output_type": "execute_result"
    }
   ],
   "source": [
    "final_dataframe_train.isna().sum()"
   ]
  },
  {
   "cell_type": "code",
   "execution_count": 37,
   "metadata": {},
   "outputs": [
    {
     "data": {
      "text/plain": [
       "mean        0\n",
       "std_dev     0\n",
       "variance    0\n",
       "median      0\n",
       "sine        0\n",
       "           ..\n",
       "295         0\n",
       "296         0\n",
       "297         0\n",
       "298         0\n",
       "299         0\n",
       "Length: 325, dtype: int64"
      ]
     },
     "execution_count": 37,
     "metadata": {},
     "output_type": "execute_result"
    }
   ],
   "source": [
    "final_dataframe_train.isin([-np.inf]).sum()"
   ]
  },
  {
   "cell_type": "code",
   "execution_count": 38,
   "metadata": {},
   "outputs": [
    {
     "data": {
      "text/plain": [
       "mean        0\n",
       "std_dev     0\n",
       "variance    0\n",
       "median      0\n",
       "sine        0\n",
       "           ..\n",
       "295         0\n",
       "296         0\n",
       "297         0\n",
       "298         0\n",
       "299         0\n",
       "Length: 325, dtype: int64"
      ]
     },
     "execution_count": 38,
     "metadata": {},
     "output_type": "execute_result"
    }
   ],
   "source": [
    "final_dataframe_test.isna().sum()"
   ]
  },
  {
   "cell_type": "code",
   "execution_count": 39,
   "metadata": {},
   "outputs": [
    {
     "data": {
      "text/plain": [
       "mean        0\n",
       "std_dev     0\n",
       "variance    0\n",
       "median      0\n",
       "sine        0\n",
       "           ..\n",
       "295         0\n",
       "296         0\n",
       "297         0\n",
       "298         0\n",
       "299         0\n",
       "Length: 325, dtype: int64"
      ]
     },
     "execution_count": 39,
     "metadata": {},
     "output_type": "execute_result"
    }
   ],
   "source": [
    "final_dataframe_test.isin([-np.inf]).sum()"
   ]
  },
  {
   "cell_type": "markdown",
   "metadata": {},
   "source": [
    "## Feature Transformation"
   ]
  },
  {
   "cell_type": "markdown",
   "metadata": {},
   "source": [
    "BoxCox Transformation"
   ]
  },
  {
   "cell_type": "code",
   "execution_count": 40,
   "metadata": {},
   "outputs": [],
   "source": [
    "final_dataframe_train_box_cox,final_dataframe_test_box_cox=box_cox_transformation(final_dataframe_train,final_dataframe_test)"
   ]
  },
  {
   "cell_type": "code",
   "execution_count": 41,
   "metadata": {},
   "outputs": [
    {
     "data": {
      "text/plain": [
       "(175, 325)"
      ]
     },
     "execution_count": 41,
     "metadata": {},
     "output_type": "execute_result"
    }
   ],
   "source": [
    "final_dataframe_train_box_cox.shape"
   ]
  },
  {
   "cell_type": "code",
   "execution_count": 42,
   "metadata": {},
   "outputs": [
    {
     "data": {
      "text/plain": [
       "(75, 325)"
      ]
     },
     "execution_count": 42,
     "metadata": {},
     "output_type": "execute_result"
    }
   ],
   "source": [
    "final_dataframe_test_box_cox.shape"
   ]
  },
  {
   "cell_type": "markdown",
   "metadata": {},
   "source": [
    "Logistic Regression"
   ]
  },
  {
   "cell_type": "code",
   "execution_count": 43,
   "metadata": {},
   "outputs": [
    {
     "name": "stdout",
     "output_type": "stream",
     "text": [
      "Fitting 7 folds for each of 12 candidates, totalling 84 fits\n",
      "best alpha/parameter {'C': 0.1, 'penalty': 'l1', 'solver': 'liblinear'}\n",
      "GridSearchCV(cv=StratifiedKFold(n_splits=7, random_state=None, shuffle=False),\n",
      "             estimator=LogisticRegression(class_weight='balanced'), n_jobs=-1,\n",
      "             param_grid={'C': [0.001, 0.01, 0.1, 1, 10, 100],\n",
      "                         'penalty': ['l1', 'l2'], 'solver': ['liblinear']},\n",
      "             return_train_score=True, scoring='roc_auc', verbose=1)\n"
     ]
    }
   ],
   "source": [
    "log_reg=LogisticRegression(class_weight='balanced')\n",
    "param={'C': [0.001,0.01,0.1,1,10,100],'penalty':['l1','l2'],'solver':['liblinear']}\n",
    "classifier=parameters_models(log_reg,param,final_dataframe_train_box_cox,y_train)\n",
    "print(classifier)"
   ]
  },
  {
   "cell_type": "code",
   "execution_count": 44,
   "metadata": {},
   "outputs": [
    {
     "data": {
      "text/plain": [
       "LogisticRegression(C=0.1, class_weight='balanced', penalty='l1',\n",
       "                   solver='liblinear')"
      ]
     },
     "execution_count": 44,
     "metadata": {},
     "output_type": "execute_result"
    }
   ],
   "source": [
    "log_reg_model=LogisticRegression(C=classifier.best_params_['C'], class_weight='balanced',\n",
    "                   solver=classifier.best_params_['solver'],penalty=classifier.best_params_['penalty'])\n",
    "log_reg_model.fit(final_dataframe_train_box_cox,y_train)"
   ]
  },
  {
   "cell_type": "code",
   "execution_count": 45,
   "metadata": {},
   "outputs": [],
   "source": [
    "y_train_pred=log_reg_model.predict_proba(final_dataframe_train_box_cox)\n",
    "y_train_pred = y_train_pred[:, 1]\n",
    "\n",
    "y_test_pred=log_reg_model.predict_proba(final_dataframe_test_box_cox)\n",
    "y_test_pred=y_test_pred[:,1]"
   ]
  },
  {
   "cell_type": "code",
   "execution_count": 46,
   "metadata": {},
   "outputs": [
    {
     "data": {
      "image/png": "[encoded data removed]",
      "text/plain": [
       "<Figure size 432x288 with 1 Axes>"
      ]
     },
     "metadata": {
      "needs_background": "light"
     },
     "output_type": "display_data"
    }
   ],
   "source": [
    "roc_auc_curve(y_train,y_train_pred,y_test,y_test_pred)"
   ]
  },
  {
   "cell_type": "markdown",
   "metadata": {},
   "source": [
    "Random Forest"
   ]
  },
  {
   "cell_type": "code",
   "execution_count": 47,
   "metadata": {},
   "outputs": [
    {
     "name": "stdout",
     "output_type": "stream",
     "text": [
      "Fitting 7 folds for each of 432 candidates, totalling 3024 fits\n",
      "best alpha/parameter {'max_depth': 5, 'max_features': None, 'min_samples_leaf': 2, 'min_samples_split': 6, 'n_estimators': 10}\n",
      "GridSearchCV(cv=StratifiedKFold(n_splits=7, random_state=None, shuffle=False),\n",
      "             estimator=RandomForestClassifier(class_weight='balanced'),\n",
      "             n_jobs=-1,\n",
      "             param_grid={'max_depth': [2, 3, 5],\n",
      "                         'max_features': ['sqrt', 'log2', None],\n",
      "                         'min_samples_leaf': [1, 2, 3, 4],\n",
      "                         'min_samples_split': [3, 4, 5, 6],\n",
      "                         'n_estimators': [5, 10, 20]},\n",
      "             return_train_score=True, scoring='roc_auc', verbose=1)\n"
     ]
    }
   ],
   "source": [
    "random_forest=RandomForestClassifier(class_weight='balanced')\n",
    "param = {'n_estimators':[5,10,20],'max_depth':[2,3,5],'min_samples_leaf':[1,2,3,4],\n",
    "        'min_samples_split':[3,4,5,6],'max_features':['sqrt', 'log2', None]}\n",
    "classifier=parameters_models(random_forest,param,final_dataframe_train_box_cox,y_train)\n",
    "print(classifier)"
   ]
  },
  {
   "cell_type": "code",
   "execution_count": 48,
   "metadata": {},
   "outputs": [
    {
     "data": {
      "text/plain": [
       "RandomForestClassifier(class_weight='balanced', max_depth=5, max_features=None,\n",
       "                       min_samples_leaf=2, min_samples_split=6,\n",
       "                       n_estimators=10)"
      ]
     },
     "execution_count": 48,
     "metadata": {},
     "output_type": "execute_result"
    }
   ],
   "source": [
    "random_forest_model=RandomForestClassifier(class_weight='balanced', max_depth=classifier.best_params_['max_depth'], min_samples_leaf=classifier.best_params_['min_samples_leaf'],\n",
    "                       min_samples_split=classifier.best_params_['min_samples_split'], n_estimators=classifier.best_params_['n_estimators'],\n",
    "                       max_features=classifier.best_params_['max_features']                  )\n",
    "random_forest_model.fit(final_dataframe_train_box_cox,y_train)"
   ]
  },
  {
   "cell_type": "code",
   "execution_count": 49,
   "metadata": {},
   "outputs": [],
   "source": [
    "y_train_pred=random_forest_model.predict_proba(final_dataframe_train_box_cox)\n",
    "y_train_pred = y_train_pred[:, 1]\n",
    "\n",
    "y_test_pred=random_forest_model.predict_proba(final_dataframe_test_box_cox)\n",
    "y_test_pred=y_test_pred[:,1]\n"
   ]
  },
  {
   "cell_type": "code",
   "execution_count": 50,
   "metadata": {},
   "outputs": [
    {
     "data": {
      "image/png": "[encoded data removed]",
      "text/plain": [
       "<Figure size 432x288 with 1 Axes>"
      ]
     },
     "metadata": {
      "needs_background": "light"
     },
     "output_type": "display_data"
    }
   ],
   "source": [
    "roc_auc_curve(y_train,y_train_pred,y_test,y_test_pred)"
   ]
  },
  {
   "cell_type": "markdown",
   "metadata": {},
   "source": [
    "Xgboost"
   ]
  },
  {
   "cell_type": "code",
   "execution_count": 51,
   "metadata": {},
   "outputs": [
    {
     "name": "stdout",
     "output_type": "stream",
     "text": [
      "Fitting 7 folds for each of 864 candidates, totalling 6048 fits\n",
      "[16:45:44] WARNING: C:/Users/Administrator/workspace/xgboost-win64_release_1.5.1/src/learner.cc:1115: Starting in XGBoost 1.3.0, the default evaluation metric used with the objective 'binary:logistic' was changed from 'error' to 'logloss'. Explicitly set eval_metric if you'd like to restore the old behavior.\n",
      "best alpha/parameter {'colsample_bytree': 0.3, 'learning_rate': 0.05, 'max_depth': 2, 'n_estimators': 10, 'subsample': 0.5}\n",
      "GridSearchCV(cv=StratifiedKFold(n_splits=7, random_state=None, shuffle=False),\n",
      "             estimator=XGBClassifier(base_score=None, booster=None,\n",
      "                                     colsample_bylevel=None,\n",
      "                                     colsample_bynode=None,\n",
      "                                     colsample_bytree=None,\n",
      "                                     enable_categorical=False, gamma=None,\n",
      "                                     gpu_id=None, importance_type=None,\n",
      "                                     interaction_constraints=None,\n",
      "                                     learning_rate=None, max_delta_step=None,\n",
      "                                     max_depth=None, mi...\n",
      "                                     random_state=None, reg_alpha=None,\n",
      "                                     reg_lambda=None, scale_pos_weight=None,\n",
      "                                     subsample=None, tree_method=None,\n",
      "                                     validate_parameters=None, verbosity=None),\n",
      "             n_jobs=-1,\n",
      "             param_grid={'colsample_bytree': [0.1, 0.3, 0.5, 1],\n",
      "                         'learning_rate': [0.01, 0.03, 0.05, 0.1, 0.15, 0.2],\n",
      "                         'max_depth': [2, 3, 5], 'n_estimators': [5, 10, 20],\n",
      "                         'subsample': [0.1, 0.3, 0.5, 1]},\n",
      "             return_train_score=True, scoring='roc_auc', verbose=1)\n"
     ]
    }
   ],
   "source": [
    "xgb=XGBClassifier()\n",
    "param= {\n",
    "        'learning_rate':[0.01,0.03,0.05,0.1,0.15,0.2],\n",
    "        'n_estimators':[5,10,20],\n",
    "        'max_depth':[2,3,5],\n",
    "        'colsample_bytree':[0.1,0.3,0.5,1],\n",
    "        'subsample':[0.1,0.3,0.5,1]\n",
    "}\n",
    "classifier=parameters_models(xgb,param,final_dataframe_train_box_cox,y_train)\n",
    "print(classifier)"
   ]
  },
  {
   "cell_type": "code",
   "execution_count": 52,
   "metadata": {},
   "outputs": [
    {
     "name": "stdout",
     "output_type": "stream",
     "text": [
      "[16:45:44] WARNING: C:/Users/Administrator/workspace/xgboost-win64_release_1.5.1/src/learner.cc:1115: Starting in XGBoost 1.3.0, the default evaluation metric used with the objective 'binary:logistic' was changed from 'error' to 'logloss'. Explicitly set eval_metric if you'd like to restore the old behavior.\n"
     ]
    },
    {
     "data": {
      "text/plain": [
       "XGBClassifier(base_score=0.5, booster='gbtree', colsample_bylevel=1,\n",
       "              colsample_bynode=1, colsample_bytree=0.3,\n",
       "              enable_categorical=False, gamma=0, gpu_id=-1,\n",
       "              importance_type=None, interaction_constraints='',\n",
       "              learning_rate=0.05, max_delta_step=0, max_depth=2,\n",
       "              min_child_weight=1, missing=nan, monotone_constraints='()',\n",
       "              n_estimators=10, n_jobs=8, num_parallel_tree=1, predictor='auto',\n",
       "              random_state=0, reg_alpha=0, reg_lambda=1, scale_pos_weight=1,\n",
       "              subsample=0.5, tree_method='exact', validate_parameters=1,\n",
       "              verbosity=None)"
      ]
     },
     "execution_count": 52,
     "metadata": {},
     "output_type": "execute_result"
    }
   ],
   "source": [
    "xgb_model=XGBClassifier(base_score=0.5, booster='gbtree', colsample_bylevel=1,\n",
    "              colsample_bynode=1, colsample_bytree=classifier.best_params_['colsample_bytree'],\n",
    "              enable_categorical=False, gamma=0, gpu_id=-1,\n",
    "              importance_type=None, interaction_constraints='',\n",
    "              learning_rate=classifier.best_params_['learning_rate'], max_delta_step=0, max_depth=classifier.best_params_['max_depth'],\n",
    "              min_child_weight=1, monotone_constraints='()',\n",
    "              n_estimators=classifier.best_params_['n_estimators'], n_jobs=8, num_parallel_tree=1, predictor='auto',\n",
    "              random_state=0, reg_alpha=0, reg_lambda=1, scale_pos_weight=1,\n",
    "              subsample=classifier.best_params_['subsample'], tree_method='exact', validate_parameters=1,\n",
    "              verbosity=None)\n",
    "xgb_model.fit(final_dataframe_train_box_cox,y_train)"
   ]
  },
  {
   "cell_type": "code",
   "execution_count": 53,
   "metadata": {},
   "outputs": [],
   "source": [
    "y_train_pred=xgb_model.predict_proba(final_dataframe_train_box_cox)\n",
    "y_train_pred = y_train_pred[:, 1]\n",
    "\n",
    "y_test_pred=xgb_model.predict_proba(final_dataframe_test_box_cox)\n",
    "y_test_pred=y_test_pred[:,1]"
   ]
  },
  {
   "cell_type": "code",
   "execution_count": 54,
   "metadata": {},
   "outputs": [
    {
     "data": {
      "image/png": "[encoded data removed]",
      "text/plain": [
       "<Figure size 432x288 with 1 Axes>"
      ]
     },
     "metadata": {
      "needs_background": "light"
     },
     "output_type": "display_data"
    }
   ],
   "source": [
    "roc_auc_curve(y_train,y_train_pred,y_test,y_test_pred)"
   ]
  },
  {
   "cell_type": "markdown",
   "metadata": {},
   "source": [
    "## Standardization With Oversampling"
   ]
  },
  {
   "cell_type": "code",
   "execution_count": 55,
   "metadata": {},
   "outputs": [],
   "source": [
    "X_train_os,y_train_os=oversampled_ss(X_train,y_train)"
   ]
  },
  {
   "cell_type": "code",
   "execution_count": 56,
   "metadata": {},
   "outputs": [],
   "source": [
    "X_train_os_ss,X_test_ss,df_train_os_ss,df_test_ss=standard_scaler(X_train_os,X_test)"
   ]
  },
  {
   "cell_type": "code",
   "execution_count": 57,
   "metadata": {},
   "outputs": [
    {
     "data": {
      "text/plain": [
       "(224, 300)"
      ]
     },
     "execution_count": 57,
     "metadata": {},
     "output_type": "execute_result"
    }
   ],
   "source": [
    "df_train_os_ss.shape"
   ]
  },
  {
   "cell_type": "code",
   "execution_count": 58,
   "metadata": {},
   "outputs": [
    {
     "data": {
      "text/plain": [
       "(75, 300)"
      ]
     },
     "execution_count": 58,
     "metadata": {},
     "output_type": "execute_result"
    }
   ],
   "source": [
    "df_test_ss.shape"
   ]
  },
  {
   "cell_type": "markdown",
   "metadata": {},
   "source": [
    "## Decision Tree with Oversampling using RFECV"
   ]
  },
  {
   "cell_type": "code",
   "execution_count": 59,
   "metadata": {},
   "outputs": [],
   "source": [
    "decision_tree=DecisionTreeClassifier()\n",
    "best_cv=StratifiedKFold(n_splits=7)"
   ]
  },
  {
   "cell_type": "code",
   "execution_count": 60,
   "metadata": {},
   "outputs": [
    {
     "name": "stdout",
     "output_type": "stream",
     "text": [
      "Fitting estimator with 300 features.\n",
      "Fitting estimator with 299 features.\n",
      "Fitting estimator with 298 features.\n",
      "Fitting estimator with 297 features.\n",
      "Fitting estimator with 296 features.\n",
      "Fitting estimator with 295 features.\n",
      "Fitting estimator with 294 features.\n",
      "Fitting estimator with 293 features.\n",
      "Fitting estimator with 292 features.\n",
      "Fitting estimator with 291 features.\n",
      "Fitting estimator with 290 features.\n",
      "Fitting estimator with 289 features.\n",
      "Fitting estimator with 288 features.\n",
      "Fitting estimator with 287 features.\n",
      "Fitting estimator with 286 features.\n",
      "Fitting estimator with 285 features.\n",
      "Fitting estimator with 284 features.\n",
      "Fitting estimator with 283 features.\n",
      "Fitting estimator with 282 features.\n",
      "Fitting estimator with 281 features.\n",
      "Fitting estimator with 280 features.\n",
      "Fitting estimator with 279 features.\n",
      "Fitting estimator with 278 features.\n",
      "Fitting estimator with 277 features.\n",
      "Fitting estimator with 276 features.\n",
      "Fitting estimator with 275 features.\n",
      "Fitting estimator with 274 features.\n",
      "Fitting estimator with 273 features.\n",
      "Fitting estimator with 272 features.\n",
      "Fitting estimator with 271 features.\n",
      "Fitting estimator with 270 features.\n",
      "Fitting estimator with 269 features.\n",
      "Fitting estimator with 268 features.\n",
      "Fitting estimator with 267 features.\n",
      "Fitting estimator with 266 features.\n",
      "Fitting estimator with 265 features.\n",
      "Fitting estimator with 264 features.\n",
      "Fitting estimator with 263 features.\n",
      "Fitting estimator with 262 features.\n",
      "Fitting estimator with 261 features.\n",
      "Fitting estimator with 260 features.\n",
      "Fitting estimator with 259 features.\n",
      "Fitting estimator with 258 features.\n",
      "Fitting estimator with 257 features.\n",
      "Fitting estimator with 256 features.\n",
      "Fitting estimator with 255 features.\n",
      "Fitting estimator with 254 features.\n",
      "Fitting estimator with 253 features.\n",
      "Fitting estimator with 252 features.\n",
      "Fitting estimator with 251 features.\n",
      "Fitting estimator with 250 features.\n",
      "Fitting estimator with 249 features.\n",
      "Fitting estimator with 248 features.\n",
      "Fitting estimator with 247 features.\n",
      "Fitting estimator with 246 features.\n",
      "Fitting estimator with 245 features.\n",
      "Fitting estimator with 244 features.\n",
      "Fitting estimator with 243 features.\n",
      "Fitting estimator with 242 features.\n",
      "Fitting estimator with 241 features.\n",
      "Fitting estimator with 240 features.\n",
      "Fitting estimator with 239 features.\n",
      "Fitting estimator with 238 features.\n",
      "Fitting estimator with 237 features.\n",
      "Fitting estimator with 236 features.\n",
      "Fitting estimator with 235 features.\n",
      "Fitting estimator with 234 features.\n",
      "Fitting estimator with 233 features.\n",
      "Fitting estimator with 232 features.\n",
      "Fitting estimator with 231 features.\n",
      "Fitting estimator with 230 features.\n",
      "Fitting estimator with 229 features.\n",
      "Fitting estimator with 228 features.\n",
      "Fitting estimator with 227 features.\n",
      "Fitting estimator with 226 features.\n",
      "Fitting estimator with 225 features.\n",
      "Fitting estimator with 224 features.\n",
      "Fitting estimator with 223 features.\n",
      "Fitting estimator with 222 features.\n",
      "Fitting estimator with 221 features.\n",
      "Fitting estimator with 220 features.\n",
      "Fitting estimator with 219 features.\n",
      "Fitting estimator with 218 features.\n",
      "Fitting estimator with 217 features.\n",
      "Fitting estimator with 216 features.\n",
      "Fitting estimator with 215 features.\n",
      "Fitting estimator with 214 features.\n",
      "Fitting estimator with 213 features.\n",
      "Fitting estimator with 212 features.\n",
      "Fitting estimator with 211 features.\n",
      "Fitting estimator with 210 features.\n",
      "Fitting estimator with 209 features.\n",
      "Fitting estimator with 208 features.\n",
      "Fitting estimator with 207 features.\n",
      "Fitting estimator with 206 features.\n",
      "Fitting estimator with 205 features.\n",
      "Fitting estimator with 204 features.\n",
      "Fitting estimator with 203 features.\n",
      "Fitting estimator with 202 features.\n",
      "Fitting estimator with 201 features.\n",
      "Fitting estimator with 200 features.\n",
      "Fitting estimator with 199 features.\n",
      "Fitting estimator with 198 features.\n",
      "Fitting estimator with 197 features.\n",
      "Fitting estimator with 196 features.\n",
      "Fitting estimator with 195 features.\n",
      "Fitting estimator with 194 features.\n",
      "Fitting estimator with 193 features.\n",
      "Fitting estimator with 192 features.\n",
      "Fitting estimator with 191 features.\n",
      "Fitting estimator with 190 features.\n",
      "Fitting estimator with 189 features.\n",
      "Fitting estimator with 188 features.\n",
      "Fitting estimator with 187 features.\n",
      "Fitting estimator with 186 features.\n",
      "Fitting estimator with 185 features.\n",
      "Fitting estimator with 184 features.\n",
      "Fitting estimator with 183 features.\n",
      "Fitting estimator with 182 features.\n",
      "Fitting estimator with 181 features.\n",
      "Fitting estimator with 180 features.\n",
      "Fitting estimator with 179 features.\n",
      "Fitting estimator with 178 features.\n",
      "Fitting estimator with 177 features.\n",
      "Fitting estimator with 176 features.\n",
      "Fitting estimator with 175 features.\n",
      "Fitting estimator with 174 features.\n",
      "Fitting estimator with 173 features.\n",
      "Fitting estimator with 172 features.\n",
      "Fitting estimator with 171 features.\n",
      "Fitting estimator with 170 features.\n",
      "Fitting estimator with 169 features.\n",
      "Fitting estimator with 168 features.\n",
      "Fitting estimator with 167 features.\n",
      "Fitting estimator with 166 features.\n",
      "Fitting estimator with 165 features.\n",
      "Fitting estimator with 164 features.\n",
      "Fitting estimator with 163 features.\n",
      "Fitting estimator with 162 features.\n",
      "Fitting estimator with 161 features.\n",
      "Fitting estimator with 160 features.\n",
      "Fitting estimator with 159 features.\n",
      "Fitting estimator with 158 features.\n",
      "Fitting estimator with 157 features.\n",
      "Fitting estimator with 156 features.\n",
      "Fitting estimator with 155 features.\n",
      "Fitting estimator with 154 features.\n",
      "Fitting estimator with 153 features.\n",
      "Fitting estimator with 152 features.\n",
      "Fitting estimator with 151 features.\n",
      "Fitting estimator with 150 features.\n",
      "Fitting estimator with 149 features.\n",
      "Fitting estimator with 148 features.\n",
      "Fitting estimator with 147 features.\n",
      "Fitting estimator with 146 features.\n",
      "Fitting estimator with 145 features.\n",
      "Fitting estimator with 144 features.\n",
      "Fitting estimator with 143 features.\n",
      "Fitting estimator with 142 features.\n",
      "Fitting estimator with 141 features.\n",
      "Fitting estimator with 140 features.\n",
      "Fitting estimator with 139 features.\n",
      "Fitting estimator with 138 features.\n",
      "Fitting estimator with 137 features.\n",
      "Fitting estimator with 136 features.\n",
      "Fitting estimator with 135 features.\n",
      "Fitting estimator with 134 features.\n",
      "Fitting estimator with 133 features.\n",
      "Fitting estimator with 132 features.\n",
      "Fitting estimator with 131 features.\n",
      "Fitting estimator with 130 features.\n",
      "Fitting estimator with 129 features.\n",
      "Fitting estimator with 128 features.\n",
      "Fitting estimator with 127 features.\n",
      "Fitting estimator with 126 features.\n",
      "Fitting estimator with 125 features.\n",
      "Fitting estimator with 124 features.\n",
      "Fitting estimator with 123 features.\n",
      "Fitting estimator with 122 features.\n",
      "Fitting estimator with 121 features.\n",
      "Fitting estimator with 120 features.\n",
      "Fitting estimator with 119 features.\n",
      "Fitting estimator with 118 features.\n",
      "Fitting estimator with 117 features.\n",
      "Fitting estimator with 116 features.\n",
      "Fitting estimator with 115 features.\n",
      "Fitting estimator with 114 features.\n",
      "Fitting estimator with 113 features.\n",
      "Fitting estimator with 112 features.\n",
      "Fitting estimator with 111 features.\n",
      "Fitting estimator with 110 features.\n",
      "Fitting estimator with 109 features.\n",
      "Fitting estimator with 108 features.\n",
      "Fitting estimator with 107 features.\n",
      "Fitting estimator with 106 features.\n",
      "Fitting estimator with 105 features.\n",
      "Fitting estimator with 104 features.\n",
      "Fitting estimator with 103 features.\n",
      "Fitting estimator with 102 features.\n",
      "Fitting estimator with 101 features.\n",
      "Fitting estimator with 100 features.\n",
      "Fitting estimator with 99 features.\n",
      "Fitting estimator with 98 features.\n",
      "Fitting estimator with 97 features.\n",
      "Fitting estimator with 96 features.\n",
      "Fitting estimator with 95 features.\n",
      "Fitting estimator with 94 features.\n",
      "Fitting estimator with 93 features.\n",
      "Fitting estimator with 92 features.\n",
      "Fitting estimator with 91 features.\n",
      "Fitting estimator with 90 features.\n",
      "Fitting estimator with 89 features.\n",
      "Fitting estimator with 88 features.\n",
      "Fitting estimator with 87 features.\n",
      "Fitting estimator with 86 features.\n",
      "Fitting estimator with 85 features.\n",
      "Fitting estimator with 84 features.\n",
      "Fitting estimator with 83 features.\n",
      "Fitting estimator with 82 features.\n",
      "Fitting estimator with 81 features.\n",
      "Fitting estimator with 80 features.\n",
      "Fitting estimator with 79 features.\n"
     ]
    },
    {
     "name": "stdout",
     "output_type": "stream",
     "text": [
      "Fitting estimator with 78 features.\n",
      "Fitting estimator with 77 features.\n",
      "Fitting estimator with 76 features.\n",
      "Fitting estimator with 75 features.\n",
      "Fitting estimator with 74 features.\n",
      "Fitting estimator with 73 features.\n",
      "Optimal Feature 72\n",
      "Feature_names ['x18' 'x19' 'x20' 'x21' 'x22' 'x23' 'x24' 'x25' 'x26' 'x27' 'x28' 'x29'\n",
      " 'x30' 'x31' 'x32' 'x33' 'x34' 'x35' 'x36' 'x37' 'x38' 'x39' 'x40' 'x41'\n",
      " 'x42' 'x43' 'x44' 'x45' 'x46' 'x47' 'x48' 'x49' 'x133' 'x138' 'x152'\n",
      " 'x175' 'x201' 'x202' 'x203' 'x204' 'x205' 'x206' 'x207' 'x208' 'x209'\n",
      " 'x210' 'x211' 'x212' 'x213' 'x214' 'x215' 'x216' 'x217' 'x218' 'x219'\n",
      " 'x220' 'x221' 'x222' 'x223' 'x224' 'x225' 'x226' 'x227' 'x228' 'x229'\n",
      " 'x230' 'x244' 'x289' 'x295' 'x296' 'x297' 'x298']\n"
     ]
    }
   ],
   "source": [
    "rfecv=feature_selection(decision_tree,X_train_os_ss,y_train_os)"
   ]
  },
  {
   "cell_type": "code",
   "execution_count": 61,
   "metadata": {},
   "outputs": [
    {
     "data": {
      "text/plain": [
       "(224, 72)"
      ]
     },
     "execution_count": 61,
     "metadata": {},
     "output_type": "execute_result"
    }
   ],
   "source": [
    "df_train_reduced_os=df_train_os_ss[df_train_os_ss.columns[rfecv]]\n",
    "df_train_reduced_os.shape"
   ]
  },
  {
   "cell_type": "code",
   "execution_count": 62,
   "metadata": {},
   "outputs": [
    {
     "data": {
      "text/plain": [
       "(75, 72)"
      ]
     },
     "execution_count": 62,
     "metadata": {},
     "output_type": "execute_result"
    }
   ],
   "source": [
    "df_test_reduced_os=df_test_ss[df_train_os_ss.columns[rfecv]]\n",
    "df_test_reduced_os.shape"
   ]
  },
  {
   "cell_type": "code",
   "execution_count": 63,
   "metadata": {},
   "outputs": [
    {
     "data": {
      "text/plain": [
       "DecisionTreeClassifier()"
      ]
     },
     "execution_count": 63,
     "metadata": {},
     "output_type": "execute_result"
    }
   ],
   "source": [
    "decision_tree_model=DecisionTreeClassifier()\n",
    "decision_tree_model.fit(df_train_reduced_os,y_train_os)"
   ]
  },
  {
   "cell_type": "code",
   "execution_count": 64,
   "metadata": {},
   "outputs": [],
   "source": [
    "y_train_pred=decision_tree_model.predict_proba(df_train_reduced_os)\n",
    "y_train_pred = y_train_pred[:, 1]\n",
    "\n",
    "y_test_pred=decision_tree_model.predict_proba(df_test_reduced_os)\n",
    "y_test_pred=y_test_pred[:,1]"
   ]
  },
  {
   "cell_type": "code",
   "execution_count": 65,
   "metadata": {},
   "outputs": [
    {
     "data": {
      "image/png": "[encoded data removed]",
      "text/plain": [
       "<Figure size 432x288 with 1 Axes>"
      ]
     },
     "metadata": {
      "needs_background": "light"
     },
     "output_type": "display_data"
    }
   ],
   "source": [
    "train_fpr, train_tpr, tr_thresholds = roc_curve(y_train_os, y_train_pred)\n",
    "test_fpr, test_tpr, te_thresholds = roc_curve(y_test, y_test_pred)\n",
    "\n",
    "plt.plot(train_fpr, train_tpr, label=\"train AUC =\"+str(auc(train_fpr, train_tpr)))\n",
    "plt.plot(test_fpr, test_tpr, label=\"test AUC =\"+str(auc(test_fpr, test_tpr)))\n",
    "plt.legend()\n",
    "plt.xlabel(\"False positive rate(FPR)\")\n",
    "plt.ylabel(\"True positive rate(TPR)\")\n",
    "plt.title(\"AUC\")\n",
    "plt.grid()\n",
    "plt.show()"
   ]
  },
  {
   "cell_type": "markdown",
   "metadata": {},
   "source": [
    "## Decison Tree using Hyperparameter with Oversampling"
   ]
  },
  {
   "cell_type": "code",
   "execution_count": 66,
   "metadata": {},
   "outputs": [
    {
     "name": "stdout",
     "output_type": "stream",
     "text": [
      "Fitting 7 folds for each of 72 candidates, totalling 504 fits\n",
      "best alpha/parameter {'criterion': 'gini', 'max_depth': 3, 'max_features': 'sqrt', 'min_samples_split': 10}\n",
      "GridSearchCV(cv=StratifiedKFold(n_splits=7, random_state=None, shuffle=False),\n",
      "             estimator=DecisionTreeClassifier(class_weight='balanced'),\n",
      "             n_jobs=-1,\n",
      "             param_grid={'criterion': ['gini', 'entropy'],\n",
      "                         'max_depth': [2, 3, 4, 5],\n",
      "                         'max_features': ['auto', 'sqrt', 'log2'],\n",
      "                         'min_samples_split': [5, 10, 50]},\n",
      "             return_train_score=True, scoring='roc_auc', verbose=1)\n"
     ]
    }
   ],
   "source": [
    "decision_tree=DecisionTreeClassifier(class_weight='balanced')\n",
    "param={'max_depth':[2,3,4,5],'min_samples_split':[5,10,50],'max_features': ['auto', 'sqrt', 'log2'],'criterion': ['gini', 'entropy']}\n",
    "classifier=parameters_models(decision_tree,param,df_train_reduced_os,y_train_os)\n",
    "print(classifier)"
   ]
  },
  {
   "cell_type": "code",
   "execution_count": 67,
   "metadata": {},
   "outputs": [
    {
     "data": {
      "text/plain": [
       "DecisionTreeClassifier(max_depth=3, max_features='sqrt', min_samples_split=10)"
      ]
     },
     "execution_count": 67,
     "metadata": {},
     "output_type": "execute_result"
    }
   ],
   "source": [
    "decision_tree_model=DecisionTreeClassifier(max_depth=classifier.best_params_['max_depth'],max_features=classifier.best_params_['max_features'],\n",
    "                                          min_samples_split=classifier.best_params_['min_samples_split'],criterion=classifier.best_params_['criterion'])\n",
    "decision_tree_model.fit(df_train_reduced_os,y_train_os)"
   ]
  },
  {
   "cell_type": "code",
   "execution_count": 68,
   "metadata": {},
   "outputs": [],
   "source": [
    "y_train_pred=decision_tree_model.predict_proba(df_train_reduced_os)\n",
    "y_train_pred = y_train_pred[:, 1]\n",
    "\n",
    "y_test_pred=decision_tree_model.predict_proba(df_test_reduced_os)\n",
    "y_test_pred=y_test_pred[:,1]"
   ]
  },
  {
   "cell_type": "code",
   "execution_count": 69,
   "metadata": {},
   "outputs": [
    {
     "data": {
      "image/png": "[encoded data removed]",
      "text/plain": [
       "<Figure size 432x288 with 1 Axes>"
      ]
     },
     "metadata": {
      "needs_background": "light"
     },
     "output_type": "display_data"
    }
   ],
   "source": [
    "roc_auc_curve(y_train_os,y_train_pred,y_test,y_test_pred)"
   ]
  },
  {
   "cell_type": "markdown",
   "metadata": {},
   "source": [
    "## Feature Enginnering with Oversampling"
   ]
  },
  {
   "cell_type": "markdown",
   "metadata": {},
   "source": [
    "Feature enginnering of oversampled train dataset"
   ]
  },
  {
   "cell_type": "code",
   "execution_count": 70,
   "metadata": {},
   "outputs": [
    {
     "data": {
      "text/plain": [
       "(224, 300)"
      ]
     },
     "execution_count": 70,
     "metadata": {},
     "output_type": "execute_result"
    }
   ],
   "source": [
    "df_train_os_ss.shape"
   ]
  },
  {
   "cell_type": "code",
   "execution_count": 71,
   "metadata": {},
   "outputs": [
    {
     "data": {
      "text/plain": [
       "(75, 300)"
      ]
     },
     "execution_count": 71,
     "metadata": {},
     "output_type": "execute_result"
    }
   ],
   "source": [
    "df_test_ss.shape"
   ]
  },
  {
   "cell_type": "code",
   "execution_count": 72,
   "metadata": {},
   "outputs": [
    {
     "data": {
      "text/plain": [
       "(224, 48)"
      ]
     },
     "execution_count": 72,
     "metadata": {},
     "output_type": "execute_result"
    }
   ],
   "source": [
    "df_train_feature_eng_os=pd.DataFrame()\n",
    "df_train_feature_eng_os=feature_enginnering(df_train_os_ss,df_train_feature_eng_os)\n",
    "df_train_feature_eng_os.shape"
   ]
  },
  {
   "cell_type": "markdown",
   "metadata": {},
   "source": [
    "Feature enginnering of oversampled test dataset"
   ]
  },
  {
   "cell_type": "code",
   "execution_count": 73,
   "metadata": {},
   "outputs": [
    {
     "data": {
      "text/plain": [
       "(75, 48)"
      ]
     },
     "execution_count": 73,
     "metadata": {},
     "output_type": "execute_result"
    }
   ],
   "source": [
    "df_test_feature_eng_os=pd.DataFrame()\n",
    "df_test_feature_eng_os=feature_enginnering(df_test_ss,df_test_feature_eng_os)\n",
    "df_test_feature_eng_os.shape"
   ]
  },
  {
   "cell_type": "markdown",
   "metadata": {},
   "source": [
    "## Merging of Features"
   ]
  },
  {
   "cell_type": "code",
   "execution_count": 74,
   "metadata": {},
   "outputs": [],
   "source": [
    "frames1=[df_train_feature_eng_os,df_train_reduced_os]\n",
    "final_dataframe_train_os=pd.concat(frames1,axis=1)"
   ]
  },
  {
   "cell_type": "code",
   "execution_count": 75,
   "metadata": {},
   "outputs": [],
   "source": [
    "frames=[df_test_feature_eng_os,df_test_reduced_os]\n",
    "final_dataframe_test_os=pd.concat(frames,axis=1)"
   ]
  },
  {
   "cell_type": "code",
   "execution_count": 76,
   "metadata": {},
   "outputs": [
    {
     "data": {
      "text/plain": [
       "(224, 120)"
      ]
     },
     "execution_count": 76,
     "metadata": {},
     "output_type": "execute_result"
    }
   ],
   "source": [
    "final_dataframe_train_os.shape"
   ]
  },
  {
   "cell_type": "code",
   "execution_count": 77,
   "metadata": {},
   "outputs": [
    {
     "data": {
      "text/plain": [
       "(75, 120)"
      ]
     },
     "execution_count": 77,
     "metadata": {},
     "output_type": "execute_result"
    }
   ],
   "source": [
    "final_dataframe_test_os.shape"
   ]
  },
  {
   "cell_type": "markdown",
   "metadata": {},
   "source": [
    "## Feature Transformation"
   ]
  },
  {
   "cell_type": "markdown",
   "metadata": {},
   "source": [
    "BoxCox Transformation"
   ]
  },
  {
   "cell_type": "code",
   "execution_count": 78,
   "metadata": {},
   "outputs": [],
   "source": [
    "final_dataframe_train_box_cox_os,final_dataframe_test_box_cox_os=box_cox_transformation(final_dataframe_train_os,final_dataframe_test_os)"
   ]
  },
  {
   "cell_type": "code",
   "execution_count": 79,
   "metadata": {},
   "outputs": [
    {
     "data": {
      "text/plain": [
       "(224, 120)"
      ]
     },
     "execution_count": 79,
     "metadata": {},
     "output_type": "execute_result"
    }
   ],
   "source": [
    "final_dataframe_train_box_cox_os.shape"
   ]
  },
  {
   "cell_type": "code",
   "execution_count": 80,
   "metadata": {},
   "outputs": [
    {
     "data": {
      "text/plain": [
       "(75, 120)"
      ]
     },
     "execution_count": 80,
     "metadata": {},
     "output_type": "execute_result"
    }
   ],
   "source": [
    "final_dataframe_test_box_cox_os.shape"
   ]
  },
  {
   "cell_type": "markdown",
   "metadata": {},
   "source": [
    "Logistic Regression"
   ]
  },
  {
   "cell_type": "code",
   "execution_count": 81,
   "metadata": {},
   "outputs": [
    {
     "name": "stdout",
     "output_type": "stream",
     "text": [
      "Fitting 7 folds for each of 12 candidates, totalling 84 fits\n",
      "best alpha/parameter {'C': 0.1, 'penalty': 'l1', 'solver': 'liblinear'}\n",
      "GridSearchCV(cv=StratifiedKFold(n_splits=7, random_state=None, shuffle=False),\n",
      "             estimator=LogisticRegression(class_weight='balanced'), n_jobs=-1,\n",
      "             param_grid={'C': [0.001, 0.01, 0.1, 1, 10, 100],\n",
      "                         'penalty': ['l1', 'l2'], 'solver': ['liblinear']},\n",
      "             return_train_score=True, scoring='roc_auc', verbose=1)\n"
     ]
    }
   ],
   "source": [
    "log_reg=LogisticRegression(class_weight='balanced')\n",
    "param={'C': [0.001,0.01,0.1,1,10,100],'penalty':['l1','l2'],'solver':['liblinear']}\n",
    "classifier=parameters_models(log_reg,param,final_dataframe_train_box_cox_os,y_train_os)\n",
    "print(classifier)"
   ]
  },
  {
   "cell_type": "code",
   "execution_count": 82,
   "metadata": {},
   "outputs": [
    {
     "data": {
      "text/plain": [
       "LogisticRegression(C=0.1, class_weight='balanced', penalty='l1',\n",
       "                   solver='liblinear')"
      ]
     },
     "execution_count": 82,
     "metadata": {},
     "output_type": "execute_result"
    }
   ],
   "source": [
    "log_reg_model=LogisticRegression(C=classifier.best_params_['C'], class_weight='balanced',\n",
    "                   solver=classifier.best_params_['solver'],penalty=classifier.best_params_['penalty'])\n",
    "log_reg_model.fit(final_dataframe_train_box_cox_os,y_train_os)"
   ]
  },
  {
   "cell_type": "code",
   "execution_count": 83,
   "metadata": {},
   "outputs": [],
   "source": [
    "y_train_pred=log_reg_model.predict_proba(final_dataframe_train_box_cox_os)\n",
    "y_train_pred = y_train_pred[:, 1]\n",
    "\n",
    "y_test_pred=log_reg_model.predict_proba(final_dataframe_test_box_cox_os)\n",
    "y_test_pred=y_test_pred[:,1]"
   ]
  },
  {
   "cell_type": "code",
   "execution_count": 84,
   "metadata": {},
   "outputs": [
    {
     "data": {
      "image/png": "[encoded data removed]",
      "text/plain": [
       "<Figure size 432x288 with 1 Axes>"
      ]
     },
     "metadata": {
      "needs_background": "light"
     },
     "output_type": "display_data"
    }
   ],
   "source": [
    "roc_auc_curve(y_train_os,y_train_pred,y_test,y_test_pred)"
   ]
  },
  {
   "cell_type": "markdown",
   "metadata": {},
   "source": [
    "Random Forest"
   ]
  },
  {
   "cell_type": "code",
   "execution_count": 85,
   "metadata": {},
   "outputs": [
    {
     "name": "stdout",
     "output_type": "stream",
     "text": [
      "Fitting 7 folds for each of 432 candidates, totalling 3024 fits\n",
      "best alpha/parameter {'max_depth': 5, 'max_features': None, 'min_samples_leaf': 2, 'min_samples_split': 6, 'n_estimators': 20}\n",
      "GridSearchCV(cv=StratifiedKFold(n_splits=7, random_state=None, shuffle=False),\n",
      "             estimator=RandomForestClassifier(class_weight='balanced'),\n",
      "             n_jobs=-1,\n",
      "             param_grid={'max_depth': [2, 3, 5],\n",
      "                         'max_features': ['sqrt', 'log2', None],\n",
      "                         'min_samples_leaf': [1, 2, 3, 4],\n",
      "                         'min_samples_split': [3, 4, 5, 6],\n",
      "                         'n_estimators': [5, 10, 20]},\n",
      "             return_train_score=True, scoring='roc_auc', verbose=1)\n"
     ]
    }
   ],
   "source": [
    "random_forest=RandomForestClassifier(class_weight='balanced')\n",
    "param = {'n_estimators':[5,10,20],'max_depth':[2,3,5],'min_samples_leaf':[1,2,3,4],\n",
    "        'min_samples_split':[3,4,5,6],'max_features':['sqrt', 'log2', None]}\n",
    "classifier=parameters_models(random_forest,param,final_dataframe_train_box_cox_os,y_train_os)\n",
    "print(classifier)"
   ]
  },
  {
   "cell_type": "code",
   "execution_count": 86,
   "metadata": {},
   "outputs": [
    {
     "data": {
      "text/plain": [
       "RandomForestClassifier(class_weight='balanced', max_depth=5, max_features=None,\n",
       "                       min_samples_leaf=2, min_samples_split=6,\n",
       "                       n_estimators=20)"
      ]
     },
     "execution_count": 86,
     "metadata": {},
     "output_type": "execute_result"
    }
   ],
   "source": [
    "random_forest_model=RandomForestClassifier(class_weight='balanced', max_depth=classifier.best_params_['max_depth'], min_samples_leaf=classifier.best_params_['min_samples_leaf'],\n",
    "                       min_samples_split=classifier.best_params_['min_samples_split'], n_estimators=classifier.best_params_['n_estimators'],\n",
    "                       max_features=classifier.best_params_['max_features']                  )\n",
    "random_forest_model.fit(final_dataframe_train_box_cox_os,y_train_os)"
   ]
  },
  {
   "cell_type": "code",
   "execution_count": 87,
   "metadata": {},
   "outputs": [],
   "source": [
    "y_train_pred=random_forest_model.predict_proba(final_dataframe_train_box_cox_os)\n",
    "y_train_pred = y_train_pred[:, 1]\n",
    "\n",
    "y_test_pred=random_forest_model.predict_proba(final_dataframe_test_box_cox_os)\n",
    "y_test_pred=y_test_pred[:,1]"
   ]
  },
  {
   "cell_type": "code",
   "execution_count": 88,
   "metadata": {},
   "outputs": [
    {
     "data": {
      "image/png": "[encoded data removed]",
      "text/plain": [
       "<Figure size 432x288 with 1 Axes>"
      ]
     },
     "metadata": {
      "needs_background": "light"
     },
     "output_type": "display_data"
    }
   ],
   "source": [
    "roc_auc_curve(y_train_os,y_train_pred,y_test,y_test_pred)"
   ]
  },
  {
   "cell_type": "markdown",
   "metadata": {},
   "source": [
    "Xgboost"
   ]
  },
  {
   "cell_type": "code",
   "execution_count": 89,
   "metadata": {},
   "outputs": [
    {
     "name": "stdout",
     "output_type": "stream",
     "text": [
      "Fitting 7 folds for each of 864 candidates, totalling 6048 fits\n",
      "[16:47:47] WARNING: C:/Users/Administrator/workspace/xgboost-win64_release_1.5.1/src/learner.cc:1115: Starting in XGBoost 1.3.0, the default evaluation metric used with the objective 'binary:logistic' was changed from 'error' to 'logloss'. Explicitly set eval_metric if you'd like to restore the old behavior.\n",
      "best alpha/parameter {'colsample_bytree': 1, 'learning_rate': 0.05, 'max_depth': 5, 'n_estimators': 20, 'subsample': 1}\n",
      "GridSearchCV(cv=StratifiedKFold(n_splits=7, random_state=None, shuffle=False),\n",
      "             estimator=XGBClassifier(base_score=None, booster=None,\n",
      "                                     colsample_bylevel=None,\n",
      "                                     colsample_bynode=None,\n",
      "                                     colsample_bytree=None,\n",
      "                                     enable_categorical=False, gamma=None,\n",
      "                                     gpu_id=None, importance_type=None,\n",
      "                                     interaction_constraints=None,\n",
      "                                     learning_rate=None, max_delta_step=None,\n",
      "                                     max_depth=None, mi...\n",
      "                                     random_state=None, reg_alpha=None,\n",
      "                                     reg_lambda=None, scale_pos_weight=None,\n",
      "                                     subsample=None, tree_method=None,\n",
      "                                     validate_parameters=None, verbosity=None),\n",
      "             n_jobs=-1,\n",
      "             param_grid={'colsample_bytree': [0.1, 0.3, 0.5, 1],\n",
      "                         'learning_rate': [0.01, 0.03, 0.05, 0.1, 0.15, 0.2],\n",
      "                         'max_depth': [2, 3, 5], 'n_estimators': [5, 10, 20],\n",
      "                         'subsample': [0.1, 0.3, 0.5, 1]},\n",
      "             return_train_score=True, scoring='roc_auc', verbose=1)\n"
     ]
    }
   ],
   "source": [
    "xgb=XGBClassifier()\n",
    "param= {\n",
    "        'learning_rate':[0.01,0.03,0.05,0.1,0.15,0.2],\n",
    "        'n_estimators':[5,10,20],\n",
    "        'max_depth':[2,3,5],\n",
    "        'colsample_bytree':[0.1,0.3,0.5,1],\n",
    "        'subsample':[0.1,0.3,0.5,1]\n",
    "}\n",
    "classifier=parameters_models(xgb,param,final_dataframe_train_box_cox_os,y_train_os)\n",
    "print(classifier)"
   ]
  },
  {
   "cell_type": "code",
   "execution_count": 90,
   "metadata": {},
   "outputs": [
    {
     "name": "stdout",
     "output_type": "stream",
     "text": [
      "[16:47:47] WARNING: C:/Users/Administrator/workspace/xgboost-win64_release_1.5.1/src/learner.cc:1115: Starting in XGBoost 1.3.0, the default evaluation metric used with the objective 'binary:logistic' was changed from 'error' to 'logloss'. Explicitly set eval_metric if you'd like to restore the old behavior.\n"
     ]
    },
    {
     "data": {
      "text/plain": [
       "XGBClassifier(base_score=0.5, booster='gbtree', colsample_bylevel=1,\n",
       "              colsample_bynode=1, colsample_bytree=1, enable_categorical=False,\n",
       "              gamma=0, gpu_id=-1, importance_type=None,\n",
       "              interaction_constraints='', learning_rate=0.05, max_delta_step=0,\n",
       "              max_depth=5, min_child_weight=1, missing=nan,\n",
       "              monotone_constraints='()', n_estimators=20, n_jobs=8,\n",
       "              num_parallel_tree=1, predictor='auto', random_state=0,\n",
       "              reg_alpha=0, reg_lambda=1, scale_pos_weight=1, subsample=1,\n",
       "              tree_method='exact', validate_parameters=1, verbosity=None)"
      ]
     },
     "execution_count": 90,
     "metadata": {},
     "output_type": "execute_result"
    }
   ],
   "source": [
    "xgb_model=XGBClassifier(base_score=0.5, booster='gbtree', colsample_bylevel=1,\n",
    "              colsample_bynode=1, colsample_bytree=classifier.best_params_['colsample_bytree'],\n",
    "              enable_categorical=False, gamma=0, gpu_id=-1,\n",
    "              importance_type=None, interaction_constraints='',\n",
    "              learning_rate=classifier.best_params_['learning_rate'], max_delta_step=0, max_depth=classifier.best_params_['max_depth'],\n",
    "              min_child_weight=1, monotone_constraints='()',\n",
    "              n_estimators=classifier.best_params_['n_estimators'], n_jobs=8, num_parallel_tree=1, predictor='auto',\n",
    "              random_state=0, reg_alpha=0, reg_lambda=1, scale_pos_weight=1,\n",
    "              subsample=classifier.best_params_['subsample'], tree_method='exact', validate_parameters=1,\n",
    "              verbosity=None)\n",
    "xgb_model.fit(final_dataframe_train_box_cox_os,y_train_os)"
   ]
  },
  {
   "cell_type": "code",
   "execution_count": 91,
   "metadata": {},
   "outputs": [],
   "source": [
    "y_train_pred=xgb_model.predict_proba(final_dataframe_train_box_cox_os)\n",
    "y_train_pred = y_train_pred[:, 1]\n",
    "\n",
    "y_test_pred=xgb_model.predict_proba(final_dataframe_test_box_cox_os)\n",
    "y_test_pred=y_test_pred[:,1]"
   ]
  },
  {
   "cell_type": "code",
   "execution_count": 92,
   "metadata": {},
   "outputs": [
    {
     "data": {
      "image/png": "[encoded data removed]",
      "text/plain": [
       "<Figure size 432x288 with 1 Axes>"
      ]
     },
     "metadata": {
      "needs_background": "light"
     },
     "output_type": "display_data"
    }
   ],
   "source": [
    "roc_auc_curve(y_train_os,y_train_pred,y_test,y_test_pred)"
   ]
  },
  {
   "cell_type": "code",
   "execution_count": null,
   "metadata": {},
   "outputs": [],
   "source": [
    "table=PrettyTable(['classifier','feature selection','Hyperparameter Tuning','oversampling','transformation','train_auc','test_auc'])\n",
    "table.add_row(['Decision_Tree','RFECV','no','no','no',1.0,0.5370])\n",
    "table.add_row(['Decision_Tree','no','yes','no','no',0.8012,0.4645])\n",
    "table.add_row(['Logistic_Regression','yes','yes','no','yes_box_cox',0.9447,0.7878])\n",
    "table.add_row(['Random_Forest','yes','yes','no','yes_box_cox',0.9965,0.7723])\n",
    "table.add_row(['Xgboost','yes','yes','no','yes_box_cox',0.9491,0.6751])\n",
    "table.add_row(['Decison_Tree','yes','no','yes','no',1.0,0.5821])\n",
    "table.add_row(['Decision_Tree','yes','yes','yes','no',0.7420,0.5540])\n",
    "table.add_row(['Logistic_Regression','yes','yes','yes','yes_box_cox',0.9111,0.7700])\n",
    "table.add_row(['Random_Forest','yes','yes','yes','yes_box_cox',0.9984,0.7260])\n",
    "table.add_row(['Xgboost','yes','yes','yes','yes_box_cox',0.9998,0.6304])\n",
    "\n",
    "print(table)"
   ]
  },
  {
   "cell_type": "code",
   "execution_count": null,
   "metadata": {},
   "outputs": [],
   "source": []
  }
 ],
 "metadata": {
  "kernelspec": {
   "display_name": "Python 3",
   "language": "python",
   "name": "python3"
  },
  "language_info": {
   "codemirror_mode": {
    "name": "ipython",
    "version": 3
   },
   "file_extension": ".py",
   "mimetype": "text/x-python",
   "name": "python",
   "nbconvert_exporter": "python",
   "pygments_lexer": "ipython3",
   "version": "3.8.5"
  }
 },
 "nbformat": 4,
 "nbformat_minor": 4
}
